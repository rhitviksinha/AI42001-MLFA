{
 "cells": [
  {
   "cell_type": "markdown",
   "metadata": {},
   "source": [
    "### Reading file"
   ]
  },
  {
   "cell_type": "code",
   "execution_count": 1,
   "metadata": {},
   "outputs": [
    {
     "name": "stdout",
     "output_type": "stream",
     "text": [
      "\n",
      "\n",
      "MISC\talthough the internet as level topology has been extensively studied over the past few years  little is known about the details of the as taxonomy\n",
      "\n",
      "MISC\tan as  node  can represent a wide variety of organizations  e g   large isp  or small private business  university  with vastly different network characteristics  external connectivity patterns  network growth tendencies  and other properties that we can hardly neglect while working on veracious internet representations in simulation environments\n",
      "\n",
      "AIMX\tin this paper  we introduce a radically new approach based on machine learning techniques to map all the ases in the internet into a natural as taxonomy\n",
      "\n",
      "OWNX\twe 'successfully' classify  NUMBER !  NUMBER  percent  of ases with expected accuracy of  NUMBER $  NUMBER  percent ~\n",
      "\n",
      "OWNX\twe release to the community the as level topology dataset augmented with   NUMBER   the as taxonomy information and  NUMBER   the set of as attributes we used to classify ases\n",
      "\n",
      "OWNX\twe believe that this dataset will serve as an invaluable addition to further understanding of the structure and evolution of the internet\n",
      "\n",
      "### introduction ###\n",
      "\n",
      "MISC\tthe rapid expansion of the internet in the last two decades has produced a large scale system of thousands of diverse  independently managed networks that collectively provide global connectivity across a wide spectrum of geopolitical environments\n",
      "\n",
      "MISC\tfrom  NUMBER  to  NUMBER  the number of globally routable as identifiers has increased from less than  NUMBER   NUMBER  to more than  NUMBER   NUMBER   exerting significant pressure on interdomain routing as well as other functional and structural parts of the internet\n",
      "\n",
      "MISC\tthis impressive growth has resulted in a heterogenous and highly complex system that challenges accurate and realistic modeling of the internet infrastructure\n",
      "\n",
      "MISC\tin particular  the as level topology is an intermix of networks owned and operated by many different organizations  e g   backbone providers  regional providers  access providers  universities and private companies\n",
      "\n",
      "MISC\tstatistical information that faithfully characterizes different as types is on the critical path toward understanding the structure of the internet  as well as for modeling its topology and growth\n",
      "\n",
      "MISC\tin topology modeling  knowledge of as types is mandatory for augmenting synthetically constructed or measured as topologies with realistic intra as and inter as router level topologies\n",
      "\n",
      "MISC\tfor example  we expect the network of a dual homed university to be drastically different from that of a dual homed small company\n",
      "\n",
      "MISC\tthe university will likely contain dozens of internal routers  thousands of hosts  and many other network elements  switches  servers  firewalls \n",
      "\n",
      "MISC\ton the other hand  the small company will most probably have a single router and a simple network topology\n",
      "\n",
      "MISC\tsince there is such a diversity among different network types  we cannot accurately augment the as level topology with appropriate router level topologies if we cannot MISC\tcharacterize the composing ases\n",
      "\n",
      "MISC\tmoreover  annotating the ases in the as topology with their types is a prerequisite for modeling the evolution of the internet  since different types of ases exhibit different growth patterns\n",
      "\n",
      "MISC\tfor example  internet service providers  isp  grow by attracting new customers and by engaging in business agreements with other isps\n",
      "\n",
      "MISC\ton the other hand  small companies that connect to the internet through one or few isps do not grow significantly over time\n",
      "\n",
      "MISC\tthus  categorizing different types of ases in the internet is necessary to identify network evolution patterns and develop accurate evolution models\n",
      "\n",
      "MISC\tan as taxonomy is also necessary for mapping ip addresses to different types of users\n",
      "\n",
      "MISC\tfor example  in traffic analysis studies its often required to distinguish between packets that come from home and business users\n",
      "\n",
      "MISC\tgiven an as taxonomy  its possible to realize this goal by checking the type of as that originates the prefix in which an ip address lies\n",
      "\n",
      "AIMX\tin this work  we introduce a radically new approach based on machine learning to construct a representative as taxonomy\n",
      "\n",
      "OWNX\twe develop an algorithm to classify ases based on empirically observed differences between as characteristics\n",
      "\n",
      "OWNX\twe use a large set of data from the internet routing registries  irr   CITATION  and from routeviews  CITATION  to identify intrinsic differences between ases of different types\n",
      "\n",
      "AIMX\tthen  we employ a novel machine learning technique to build a classification algorithm that exploits these differences to classify ases into six representative classes that reflect ases with different network properties and infrastructures\n",
      "\n",
      "OWNX\twe derive macroscopic statistics on the different types of ases in the internet and validate our results using a sample of  NUMBER  manually identified as types\n",
      "\n",
      "OWNX\tour validation demonstrates that our classification algorithm achieves high accuracy   NUMBER   NUMBER  percent  of the examined classifications were correct\n",
      "\n",
      "OWNX\tfinally  we make our results and our classifier publicly available to promote further research and understanding of the internet s structure and evolution\n",
      "\n",
      "OWNX\tin section  we start with a brief discussion of related work\n",
      "\n",
      "OWNX\tsection  describes the data we used  and in section  we specify the set of as classes we use in our experiments\n",
      "\n",
      "OWNX\tsection  introduces our classification approach and results\n",
      "\n",
      "OWNX\twe validate them in section  and conclude in section \n",
      "\n"
     ]
    },
    {
     "data": {
      "text/plain": [
       "<function TextIOWrapper.close()>"
      ]
     },
     "execution_count": 1,
     "metadata": {},
     "output_type": "execute_result"
    }
   ],
   "source": [
    "\n",
    "\n",
    "#get file object\n",
    "file = open(\"sample.txt\", \"r\")\n",
    "\n",
    "while(True):\n",
    "                                            #read next line\n",
    "    line = file.readline()\n",
    "                                            #if line is empty, you are done with all lines in the file\n",
    "    if not line:\n",
    "        break\n",
    "                                            #you can access the line\n",
    "    print(line)\n",
    "\n",
    "#close file1\n",
    "file.close"
   ]
  },
  {
   "cell_type": "code",
   "execution_count": 3,
   "metadata": {},
   "outputs": [
    {
     "name": "stdout",
     "output_type": "stream",
     "text": [
      "\n",
      "\n",
      "MISC\talthough the internet as level topology has been extensively studied over the past few years  little is known about the details of the as taxonomy\n",
      "\n",
      "MISC\tan as  node  can represent a wide variety of organizations  e g   large isp  or small private business  university  with vastly different network characteristics  external connectivity patterns  network growth tendencies  and other properties that we can hardly neglect while working on veracious internet representations in simulation environments\n",
      "\n",
      "AIMX\tin this paper  we introduce a radically new approach based on machine learning techniques to map all the ases in the internet into a natural as taxonomy\n",
      "\n",
      "OWNX\twe 'successfully' classify  NUMBER !  NUMBER  percent  of ases with expected accuracy of  NUMBER $  NUMBER  percent ~\n",
      "\n"
     ]
    },
    {
     "data": {
      "text/plain": [
       "str"
      ]
     },
     "execution_count": 3,
     "metadata": {},
     "output_type": "execute_result"
    }
   ],
   "source": [
    "file = open(\"sample.txt\")\n",
    "#Open \"sample.text\"\n",
    "\n",
    "\n",
    "number_of_lines = 5\n",
    "\n",
    "for i in range(number_of_lines):\n",
    "\n",
    "\n",
    "    line = file.readline()\n",
    "    print(line)\n",
    "type(line)"
   ]
  },
  {
   "cell_type": "code",
   "execution_count": 5,
   "metadata": {},
   "outputs": [
    {
     "data": {
      "text/html": [
       "<div>\n",
       "<style scoped>\n",
       "    .dataframe tbody tr th:only-of-type {\n",
       "        vertical-align: middle;\n",
       "    }\n",
       "\n",
       "    .dataframe tbody tr th {\n",
       "        vertical-align: top;\n",
       "    }\n",
       "\n",
       "    .dataframe thead th {\n",
       "        text-align: right;\n",
       "    }\n",
       "</style>\n",
       "<table border=\"1\" class=\"dataframe\">\n",
       "  <thead>\n",
       "    <tr style=\"text-align: right;\">\n",
       "      <th></th>\n",
       "      <th>MISC\\talthough the internet as level topology has been extensively studied over the past few years  little is known about the details of the as taxonomy</th>\n",
       "    </tr>\n",
       "  </thead>\n",
       "  <tbody>\n",
       "    <tr>\n",
       "      <th>0</th>\n",
       "      <td>MISC\\tan as  node  can represent a wide variet...</td>\n",
       "    </tr>\n",
       "    <tr>\n",
       "      <th>1</th>\n",
       "      <td>AIMX\\tin this paper  we introduce a radically ...</td>\n",
       "    </tr>\n",
       "    <tr>\n",
       "      <th>2</th>\n",
       "      <td>OWNX\\twe 'successfully' classify  NUMBER !  NU...</td>\n",
       "    </tr>\n",
       "    <tr>\n",
       "      <th>3</th>\n",
       "      <td>OWNX\\twe release to the community the as level...</td>\n",
       "    </tr>\n",
       "    <tr>\n",
       "      <th>4</th>\n",
       "      <td>OWNX\\twe believe that this dataset will serve ...</td>\n",
       "    </tr>\n",
       "    <tr>\n",
       "      <th>5</th>\n",
       "      <td>### introduction ###</td>\n",
       "    </tr>\n",
       "    <tr>\n",
       "      <th>6</th>\n",
       "      <td>MISC\\tthe rapid expansion of the internet in t...</td>\n",
       "    </tr>\n",
       "    <tr>\n",
       "      <th>7</th>\n",
       "      <td>MISC\\tfrom  NUMBER  to  NUMBER  the number of ...</td>\n",
       "    </tr>\n",
       "    <tr>\n",
       "      <th>8</th>\n",
       "      <td>MISC\\tthis impressive growth has resulted in a...</td>\n",
       "    </tr>\n",
       "    <tr>\n",
       "      <th>9</th>\n",
       "      <td>MISC\\tin particular  the as level topology is ...</td>\n",
       "    </tr>\n",
       "    <tr>\n",
       "      <th>10</th>\n",
       "      <td>MISC\\tstatistical information that faithfully ...</td>\n",
       "    </tr>\n",
       "    <tr>\n",
       "      <th>11</th>\n",
       "      <td>MISC\\tin topology modeling  knowledge of as ty...</td>\n",
       "    </tr>\n",
       "    <tr>\n",
       "      <th>12</th>\n",
       "      <td>MISC\\tfor example  we expect the network of a ...</td>\n",
       "    </tr>\n",
       "    <tr>\n",
       "      <th>13</th>\n",
       "      <td>MISC\\tthe university will likely contain dozen...</td>\n",
       "    </tr>\n",
       "    <tr>\n",
       "      <th>14</th>\n",
       "      <td>MISC\\ton the other hand  the small company wil...</td>\n",
       "    </tr>\n",
       "    <tr>\n",
       "      <th>15</th>\n",
       "      <td>MISC\\tsince there is such a diversity among di...</td>\n",
       "    </tr>\n",
       "    <tr>\n",
       "      <th>16</th>\n",
       "      <td>MISC\\tmoreover  annotating the ases in the as ...</td>\n",
       "    </tr>\n",
       "    <tr>\n",
       "      <th>17</th>\n",
       "      <td>MISC\\tfor example  internet service providers ...</td>\n",
       "    </tr>\n",
       "    <tr>\n",
       "      <th>18</th>\n",
       "      <td>MISC\\ton the other hand  small companies that ...</td>\n",
       "    </tr>\n",
       "    <tr>\n",
       "      <th>19</th>\n",
       "      <td>MISC\\tthus  categorizing different types of as...</td>\n",
       "    </tr>\n",
       "    <tr>\n",
       "      <th>20</th>\n",
       "      <td>MISC\\tan as taxonomy is also necessary for map...</td>\n",
       "    </tr>\n",
       "    <tr>\n",
       "      <th>21</th>\n",
       "      <td>MISC\\tfor example  in traffic analysis studies...</td>\n",
       "    </tr>\n",
       "    <tr>\n",
       "      <th>22</th>\n",
       "      <td>MISC\\tgiven an as taxonomy  its possible to re...</td>\n",
       "    </tr>\n",
       "    <tr>\n",
       "      <th>23</th>\n",
       "      <td>AIMX\\tin this work  we introduce a radically n...</td>\n",
       "    </tr>\n",
       "    <tr>\n",
       "      <th>24</th>\n",
       "      <td>OWNX\\twe develop an algorithm to classify ases...</td>\n",
       "    </tr>\n",
       "    <tr>\n",
       "      <th>25</th>\n",
       "      <td>OWNX\\twe use a large set of data from the inte...</td>\n",
       "    </tr>\n",
       "    <tr>\n",
       "      <th>26</th>\n",
       "      <td>AIMX\\tthen  we employ a novel machine learning...</td>\n",
       "    </tr>\n",
       "    <tr>\n",
       "      <th>27</th>\n",
       "      <td>OWNX\\twe derive macroscopic statistics on the ...</td>\n",
       "    </tr>\n",
       "    <tr>\n",
       "      <th>28</th>\n",
       "      <td>OWNX\\tour validation demonstrates that our cla...</td>\n",
       "    </tr>\n",
       "    <tr>\n",
       "      <th>29</th>\n",
       "      <td>OWNX\\tfinally  we make our results and our cla...</td>\n",
       "    </tr>\n",
       "    <tr>\n",
       "      <th>30</th>\n",
       "      <td>OWNX\\tin section  we start with a brief discus...</td>\n",
       "    </tr>\n",
       "    <tr>\n",
       "      <th>31</th>\n",
       "      <td>OWNX\\tsection  describes the data we used  and...</td>\n",
       "    </tr>\n",
       "    <tr>\n",
       "      <th>32</th>\n",
       "      <td>OWNX\\tsection  introduces our classification a...</td>\n",
       "    </tr>\n",
       "    <tr>\n",
       "      <th>33</th>\n",
       "      <td>OWNX\\twe validate them in section  and conclud...</td>\n",
       "    </tr>\n",
       "  </tbody>\n",
       "</table>\n",
       "</div>"
      ],
      "text/plain": [
       "   MISC\\talthough the internet as level topology has been extensively studied over the past few years  little is known about the details of the as taxonomy\n",
       "0   MISC\\tan as  node  can represent a wide variet...                                                                                                      \n",
       "1   AIMX\\tin this paper  we introduce a radically ...                                                                                                      \n",
       "2   OWNX\\twe 'successfully' classify  NUMBER !  NU...                                                                                                      \n",
       "3   OWNX\\twe release to the community the as level...                                                                                                      \n",
       "4   OWNX\\twe believe that this dataset will serve ...                                                                                                      \n",
       "5                                ### introduction ###                                                                                                      \n",
       "6   MISC\\tthe rapid expansion of the internet in t...                                                                                                      \n",
       "7   MISC\\tfrom  NUMBER  to  NUMBER  the number of ...                                                                                                      \n",
       "8   MISC\\tthis impressive growth has resulted in a...                                                                                                      \n",
       "9   MISC\\tin particular  the as level topology is ...                                                                                                      \n",
       "10  MISC\\tstatistical information that faithfully ...                                                                                                      \n",
       "11  MISC\\tin topology modeling  knowledge of as ty...                                                                                                      \n",
       "12  MISC\\tfor example  we expect the network of a ...                                                                                                      \n",
       "13  MISC\\tthe university will likely contain dozen...                                                                                                      \n",
       "14  MISC\\ton the other hand  the small company wil...                                                                                                      \n",
       "15  MISC\\tsince there is such a diversity among di...                                                                                                      \n",
       "16  MISC\\tmoreover  annotating the ases in the as ...                                                                                                      \n",
       "17  MISC\\tfor example  internet service providers ...                                                                                                      \n",
       "18  MISC\\ton the other hand  small companies that ...                                                                                                      \n",
       "19  MISC\\tthus  categorizing different types of as...                                                                                                      \n",
       "20  MISC\\tan as taxonomy is also necessary for map...                                                                                                      \n",
       "21  MISC\\tfor example  in traffic analysis studies...                                                                                                      \n",
       "22  MISC\\tgiven an as taxonomy  its possible to re...                                                                                                      \n",
       "23  AIMX\\tin this work  we introduce a radically n...                                                                                                      \n",
       "24  OWNX\\twe develop an algorithm to classify ases...                                                                                                      \n",
       "25  OWNX\\twe use a large set of data from the inte...                                                                                                      \n",
       "26  AIMX\\tthen  we employ a novel machine learning...                                                                                                      \n",
       "27  OWNX\\twe derive macroscopic statistics on the ...                                                                                                      \n",
       "28  OWNX\\tour validation demonstrates that our cla...                                                                                                      \n",
       "29  OWNX\\tfinally  we make our results and our cla...                                                                                                      \n",
       "30  OWNX\\tin section  we start with a brief discus...                                                                                                      \n",
       "31  OWNX\\tsection  describes the data we used  and...                                                                                                      \n",
       "32  OWNX\\tsection  introduces our classification a...                                                                                                      \n",
       "33  OWNX\\twe validate them in section  and conclud...                                                                                                      "
      ]
     },
     "execution_count": 5,
     "metadata": {},
     "output_type": "execute_result"
    }
   ],
   "source": [
    "import pandas as pd\n",
    "\n",
    "df = pd.read_csv(\"sample.txt\")\n",
    "\n",
    "df"
   ]
  },
  {
   "cell_type": "markdown",
   "metadata": {},
   "source": [
    "### Split the data"
   ]
  },
  {
   "cell_type": "code",
   "execution_count": 6,
   "metadata": {},
   "outputs": [
    {
     "name": "stdout",
     "output_type": "stream",
     "text": [
      "['OWNX', 'we', \"'successfully'\", 'classify', 'NUMBER', '!', 'NUMBER', 'percent', 'of', 'ases', 'with', 'expected', 'accuracy', 'of', 'NUMBER', '$', 'NUMBER', 'percent', '~']\n"
     ]
    }
   ],
   "source": [
    "# split into words by white space\n",
    "\n",
    "words = line.split()\n",
    "print(words)\n",
    "\n",
    "#print(words[:10])"
   ]
  },
  {
   "cell_type": "markdown",
   "metadata": {},
   "source": [
    "### Remove punctuation"
   ]
  },
  {
   "cell_type": "code",
   "execution_count": 10,
   "metadata": {},
   "outputs": [
    {
     "name": "stdout",
     "output_type": "stream",
     "text": [
      "OWNX\n"
     ]
    },
    {
     "data": {
      "text/plain": [
       "'KNX'"
      ]
     },
     "execution_count": 10,
     "metadata": {},
     "output_type": "execute_result"
    }
   ],
   "source": [
    "# remove punctuation from word\n",
    "import string\n",
    "\n",
    "print(words[0])\n",
    "\n",
    "step = str.maketrans('O', 'K')  # to replace\n",
    "\n",
    "step = str.maketrans('', '','W')   # to remove\n",
    "\n",
    "step = str.maketrans('O','K','W')\n",
    "\n",
    "words[0].translate(step)"
   ]
  },
  {
   "cell_type": "code",
   "execution_count": 11,
   "metadata": {},
   "outputs": [
    {
     "name": "stdout",
     "output_type": "stream",
     "text": [
      "OWNX\twe 'successfully' classify  NUMBER !  NUMBER  percent  of ases with expected accuracy of  NUMBER $  NUMBER  percent ~\n",
      "\n"
     ]
    },
    {
     "data": {
      "text/plain": [
       "\"OWNXwe 'successfully' classify  NUMBER   NUMBER  percent  of ases with expected accuracy of  NUMBER   NUMBER  percent ~\\n\""
      ]
     },
     "execution_count": 11,
     "metadata": {},
     "output_type": "execute_result"
    }
   ],
   "source": [
    "# remove punctuation from complete line\n",
    "#import string\n",
    "\n",
    "print(line)\n",
    "step = str.maketrans('','','!,$,\\t')   # to remove\n",
    "\n",
    "\n",
    "line.translate(step)"
   ]
  },
  {
   "cell_type": "code",
   "execution_count": 12,
   "metadata": {},
   "outputs": [
    {
     "name": "stdout",
     "output_type": "stream",
     "text": [
      "['OWNX', 'we', \"'successfully'\", 'classify', 'NUMBER', '!', 'NUMBER', 'percent', 'of', 'ases', 'with', 'expected', 'accuracy', 'of', 'NUMBER', '$', 'NUMBER', 'percent', '~']\n",
      "\n",
      "\n",
      "['OWNX', 'we', 'successfully', 'classify', 'NUMBER', '', 'NUMBER', 'percent', 'of', 'ases', 'with', 'expected', 'accuracy', 'of', 'NUMBER', '', 'NUMBER', 'percent', '']\n"
     ]
    }
   ],
   "source": [
    "# remove punctuation from each word\n",
    "import string\n",
    "\n",
    "print(words)\n",
    "print('\\n')\n",
    "\n",
    "\n",
    "table = str.maketrans('', '', string.punctuation)\n",
    "\n",
    "\n",
    "final = [w.translate(table) for w in words]\n",
    "print(final)"
   ]
  },
  {
   "cell_type": "markdown",
   "metadata": {},
   "source": [
    "### Convert into lower case"
   ]
  },
  {
   "cell_type": "code",
   "execution_count": 14,
   "metadata": {},
   "outputs": [
    {
     "name": "stdout",
     "output_type": "stream",
     "text": [
      "['ownx', 'we', \"'successfully'\", 'classify', 'number', '!', 'number', 'percent', 'of', 'ases', 'with', 'expected', 'accuracy', 'of', 'number', '$', 'number', 'percent', '~']\n"
     ]
    }
   ],
   "source": [
    "# convert to lower case\n",
    "words = [word.lower() for word in words]\n",
    "print(words[0:100])"
   ]
  },
  {
   "cell_type": "code",
   "execution_count": null,
   "metadata": {},
   "outputs": [],
   "source": []
  }
 ],
 "metadata": {
  "kernelspec": {
   "display_name": "Python 3",
   "language": "python",
   "name": "python3"
  },
  "language_info": {
   "codemirror_mode": {
    "name": "ipython",
    "version": 3
   },
   "file_extension": ".py",
   "mimetype": "text/x-python",
   "name": "python",
   "nbconvert_exporter": "python",
   "pygments_lexer": "ipython3",
   "version": "3.7.6"
  }
 },
 "nbformat": 4,
 "nbformat_minor": 4
}
