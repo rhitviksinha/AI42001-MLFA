{
  "nbformat": 4,
  "nbformat_minor": 0,
  "metadata": {
    "colab": {
      "name": "Assignment5_Group19_18EE30021.ipynb",
      "provenance": [],
      "collapsed_sections": []
    },
    "kernelspec": {
      "name": "python3",
      "display_name": "Python 3"
    }
  },
  "cells": [
    {
      "cell_type": "markdown",
      "metadata": {
        "id": "vtzA02kWritr"
      },
      "source": [
        "# **Handwritten Digit Classification**\n",
        "Submitted By:  \n",
        "> **Group 19**  \n",
        "*18EE30021 : Pratyush Jaiswal*    \n",
        "*18EE30029 : Nuruddin Jiruwala*       \n",
        "*18EE10043 : Rhitvik Sinha*  \n",
        "*18EE10062 : Akshat Kumar Gupta*  \n",
        "\n",
        "\n"
      ]
    },
    {
      "cell_type": "code",
      "metadata": {
        "id": "WV6gKfJF7CfG",
        "outputId": "f0b519ea-f55c-447d-ea7e-c78a62c8a76c",
        "colab": {
          "base_uri": "https://localhost:8080/",
          "height": 50
        }
      },
      "source": [
        "import numpy as np\n",
        "import pandas as pd\n",
        "from keras.datasets import mnist\n",
        "import matplotlib.pyplot as plt\n",
        "import random\n",
        "# load (downloaded if needed) the MNIST dataset\n",
        "(X_train, y_train), (X_test, y_test) = mnist.load_data()"
      ],
      "execution_count": null,
      "outputs": [
        {
          "output_type": "stream",
          "text": [
            "Downloading data from https://storage.googleapis.com/tensorflow/tf-keras-datasets/mnist.npz\n",
            "11493376/11490434 [==============================] - 0s 0us/step\n"
          ],
          "name": "stdout"
        }
      ]
    },
    {
      "cell_type": "markdown",
      "metadata": {
        "id": "b23NPcGlVGjj"
      },
      "source": [
        "## Flattening dataset into 784-dimensional binary vectors and Keeping aside 20% data for testing and another 20% for validation"
      ]
    },
    {
      "cell_type": "code",
      "metadata": {
        "id": "o5EIn0Zi7YIX"
      },
      "source": [
        "X_train=np.concatenate((X_train,X_test))"
      ],
      "execution_count": null,
      "outputs": []
    },
    {
      "cell_type": "code",
      "metadata": {
        "id": "Mmj1Nna-7lXF",
        "outputId": "312111d0-ce38-4d1e-9e45-1d250e52d0fa",
        "colab": {
          "base_uri": "https://localhost:8080/",
          "height": 33
        }
      },
      "source": [
        "X_train.shape"
      ],
      "execution_count": null,
      "outputs": [
        {
          "output_type": "execute_result",
          "data": {
            "text/plain": [
              "(70000, 28, 28)"
            ]
          },
          "metadata": {
            "tags": []
          },
          "execution_count": 3
        }
      ]
    },
    {
      "cell_type": "code",
      "metadata": {
        "id": "G0xyk00u8JEQ"
      },
      "source": [
        "Y_train=np.concatenate((y_train,y_test))"
      ],
      "execution_count": null,
      "outputs": []
    },
    {
      "cell_type": "code",
      "metadata": {
        "id": "6qdkQ2Pc8QRF",
        "outputId": "40258cf2-f685-45ef-ff17-f48d01b4b75f",
        "colab": {
          "base_uri": "https://localhost:8080/",
          "height": 33
        }
      },
      "source": [
        "Y_train.shape"
      ],
      "execution_count": null,
      "outputs": [
        {
          "output_type": "execute_result",
          "data": {
            "text/plain": [
              "(70000,)"
            ]
          },
          "metadata": {
            "tags": []
          },
          "execution_count": 5
        }
      ]
    },
    {
      "cell_type": "code",
      "metadata": {
        "id": "9JiZD-1x8SKy"
      },
      "source": [
        "Train=[]\n",
        "threshold = 127\n",
        "for i in range(X_train.shape[0]):\n",
        "  temp=X_train[i].flatten()                   # flattening and binarization of data\n",
        "  temp=np.where(temp>threshold, 1, 0)\n",
        "  Train.append(temp)\n",
        "Train=np.array(Train)"
      ],
      "execution_count": null,
      "outputs": []
    },
    {
      "cell_type": "code",
      "metadata": {
        "id": "Jam9EQXbMt17",
        "outputId": "860f43b7-2414-453b-d1d0-2233a167ade9",
        "colab": {
          "base_uri": "https://localhost:8080/",
          "height": 33
        }
      },
      "source": [
        "Train.shape"
      ],
      "execution_count": null,
      "outputs": [
        {
          "output_type": "execute_result",
          "data": {
            "text/plain": [
              "(70000, 784)"
            ]
          },
          "metadata": {
            "tags": []
          },
          "execution_count": 7
        }
      ]
    },
    {
      "cell_type": "code",
      "metadata": {
        "id": "g0x0NjJY9nuP"
      },
      "source": [
        "trainx=Train[:int(0.6*Train.shape[0])]\n",
        "trainy=Y_train[:int(0.6*Y_train.shape[0])]\n",
        "validationx=Train[int(0.6*Train.shape[0]):int(0.8*Train.shape[0])]\n",
        "validy=Y_train[int(0.6*Y_train.shape[0]):int(0.8*Y_train.shape[0])]\n",
        "testx=Train[int(0.8*Train.shape[0]):int(1*Train.shape[0])]\n",
        "testy=Y_train[int(0.8*Y_train.shape[0]):int(1*Y_train.shape[0])]"
      ],
      "execution_count": null,
      "outputs": []
    },
    {
      "cell_type": "markdown",
      "metadata": {
        "id": "ITGhlBkCt-li"
      },
      "source": [
        "## Building a decision tree (using library function) based on 10 dimensions only"
      ]
    },
    {
      "cell_type": "code",
      "metadata": {
        "id": "b2V-OZW492pg"
      },
      "source": [
        "indices=random.sample(range(0, 784), 10)"
      ],
      "execution_count": null,
      "outputs": []
    },
    {
      "cell_type": "code",
      "metadata": {
        "id": "QbAXH-cU95OP"
      },
      "source": [
        "tree1x=trainx[:,indices]\n",
        "validationtreex=validationx[:,indices]"
      ],
      "execution_count": null,
      "outputs": []
    },
    {
      "cell_type": "code",
      "metadata": {
        "id": "19iISfQ097Er",
        "outputId": "0428a7d8-a2e7-40ce-d3b1-105006b2eff7",
        "colab": {
          "base_uri": "https://localhost:8080/",
          "height": 33
        }
      },
      "source": [
        "tree1x.shape"
      ],
      "execution_count": null,
      "outputs": [
        {
          "output_type": "execute_result",
          "data": {
            "text/plain": [
              "(42000, 10)"
            ]
          },
          "metadata": {
            "tags": []
          },
          "execution_count": 11
        }
      ]
    },
    {
      "cell_type": "code",
      "metadata": {
        "id": "QGX5Ss8N_4BY",
        "outputId": "86a63ce5-2a73-4945-9745-c12abe6a7398",
        "colab": {
          "base_uri": "https://localhost:8080/",
          "height": 33
        }
      },
      "source": [
        "trainy.shape"
      ],
      "execution_count": null,
      "outputs": [
        {
          "output_type": "execute_result",
          "data": {
            "text/plain": [
              "(42000,)"
            ]
          },
          "metadata": {
            "tags": []
          },
          "execution_count": 12
        }
      ]
    },
    {
      "cell_type": "code",
      "metadata": {
        "id": "KyuGKhjw-4Fy",
        "outputId": "45ebc4a4-3904-4166-9da6-70e8f9eb9587",
        "colab": {
          "base_uri": "https://localhost:8080/",
          "height": 116
        }
      },
      "source": [
        "from sklearn.tree import DecisionTreeClassifier\n",
        "treem=DecisionTreeClassifier(criterion='entropy',max_depth=5)\n",
        "treem.fit(tree1x,trainy)  # the input shapes must be (42000,10) and (42000,)  i.e. (num_labels,num_features) for X and (num_labels) for Y"
      ],
      "execution_count": null,
      "outputs": [
        {
          "output_type": "execute_result",
          "data": {
            "text/plain": [
              "DecisionTreeClassifier(ccp_alpha=0.0, class_weight=None, criterion='entropy',\n",
              "                       max_depth=5, max_features=None, max_leaf_nodes=None,\n",
              "                       min_impurity_decrease=0.0, min_impurity_split=None,\n",
              "                       min_samples_leaf=1, min_samples_split=2,\n",
              "                       min_weight_fraction_leaf=0.0, presort='deprecated',\n",
              "                       random_state=None, splitter='best')"
            ]
          },
          "metadata": {
            "tags": []
          },
          "execution_count": 13
        }
      ]
    },
    {
      "cell_type": "code",
      "metadata": {
        "id": "uunNXtpAAxs5"
      },
      "source": [
        "predict1=treem.predict(validationtreex)"
      ],
      "execution_count": null,
      "outputs": []
    },
    {
      "cell_type": "code",
      "metadata": {
        "id": "-B8ViBc8BI8U"
      },
      "source": [
        "from sklearn.metrics import accuracy_score"
      ],
      "execution_count": null,
      "outputs": []
    },
    {
      "cell_type": "code",
      "metadata": {
        "id": "FmcGvZ0YBzVz"
      },
      "source": [
        "accuracy=accuracy_score(predict1,validy)"
      ],
      "execution_count": null,
      "outputs": []
    },
    {
      "cell_type": "code",
      "metadata": {
        "id": "13QKyu3RB0oW",
        "outputId": "08327d7a-5375-4fc8-81cf-552ba9c30e37",
        "colab": {
          "base_uri": "https://localhost:8080/",
          "height": 33
        }
      },
      "source": [
        "accuracy"
      ],
      "execution_count": null,
      "outputs": [
        {
          "output_type": "execute_result",
          "data": {
            "text/plain": [
              "0.33714285714285713"
            ]
          },
          "metadata": {
            "tags": []
          },
          "execution_count": 17
        }
      ]
    },
    {
      "cell_type": "markdown",
      "metadata": {
        "id": "1u-pB9a5H9qv"
      },
      "source": [
        "## Building a decision tree of max. depth 5 for each of the 50 random subsets like above, each of dimension 10"
      ]
    },
    {
      "cell_type": "code",
      "metadata": {
        "id": "89Kh3t0jDWNY"
      },
      "source": [
        "def createtree(trainx,trainy,validationx,validy):\n",
        "  indices=random.sample(range(trainx.shape[1]), 10) # random 10 features\n",
        "  tree1x=trainx[:,indices]\n",
        "  validationtreex=validationx[:,indices]\n",
        "  model=DecisionTreeClassifier(max_depth=5)\n",
        "  model.fit(tree1x,trainy) # predicting on those features\n",
        "  ypred=model.predict(validationtreex)\n",
        "  accuracy=accuracy_score(ypred,validy)\n",
        "  return accuracy,indices,model"
      ],
      "execution_count": null,
      "outputs": []
    },
    {
      "cell_type": "code",
      "metadata": {
        "id": "tN1tDqf4Fyui"
      },
      "source": [
        "tree_acc={} # accuracies(weights) for each tree\n",
        "trees={}    # model themselve\n",
        "tree_feat={} # features selected for the tree\n",
        "for i in range(50):\n",
        "  tree_acc[i],tree_feat[i],trees[i]=createtree(trainx,trainy,validationx,validy) # getting all 50 trees dataset"
      ],
      "execution_count": null,
      "outputs": []
    },
    {
      "cell_type": "code",
      "metadata": {
        "id": "1QeP36TJF02J",
        "outputId": "3be79219-079c-4333-a0bf-eb9b2525179d",
        "colab": {
          "base_uri": "https://localhost:8080/",
          "height": 848
        }
      },
      "source": [
        "tree_acc"
      ],
      "execution_count": null,
      "outputs": [
        {
          "output_type": "execute_result",
          "data": {
            "text/plain": [
              "{0: 0.3359285714285714,\n",
              " 1: 0.38221428571428573,\n",
              " 2: 0.29035714285714287,\n",
              " 3: 0.373,\n",
              " 4: 0.31685714285714284,\n",
              " 5: 0.24357142857142858,\n",
              " 6: 0.41864285714285715,\n",
              " 7: 0.27085714285714285,\n",
              " 8: 0.3142142857142857,\n",
              " 9: 0.3950714285714286,\n",
              " 10: 0.195,\n",
              " 11: 0.33635714285714285,\n",
              " 12: 0.24521428571428572,\n",
              " 13: 0.3005,\n",
              " 14: 0.33864285714285713,\n",
              " 15: 0.33135714285714285,\n",
              " 16: 0.22378571428571428,\n",
              " 17: 0.2832142857142857,\n",
              " 18: 0.3585,\n",
              " 19: 0.237,\n",
              " 20: 0.2567857142857143,\n",
              " 21: 0.3597142857142857,\n",
              " 22: 0.2475,\n",
              " 23: 0.36407142857142855,\n",
              " 24: 0.3565,\n",
              " 25: 0.38285714285714284,\n",
              " 26: 0.30342857142857144,\n",
              " 27: 0.32435714285714284,\n",
              " 28: 0.2922142857142857,\n",
              " 29: 0.36457142857142855,\n",
              " 30: 0.25685714285714284,\n",
              " 31: 0.27064285714285713,\n",
              " 32: 0.2392857142857143,\n",
              " 33: 0.348,\n",
              " 34: 0.2724285714285714,\n",
              " 35: 0.32807142857142857,\n",
              " 36: 0.3417142857142857,\n",
              " 37: 0.33,\n",
              " 38: 0.28714285714285714,\n",
              " 39: 0.3454285714285714,\n",
              " 40: 0.3274285714285714,\n",
              " 41: 0.25435714285714284,\n",
              " 42: 0.37764285714285717,\n",
              " 43: 0.42457142857142854,\n",
              " 44: 0.22835714285714287,\n",
              " 45: 0.37957142857142856,\n",
              " 46: 0.31042857142857144,\n",
              " 47: 0.3377857142857143,\n",
              " 48: 0.23107142857142857,\n",
              " 49: 0.2155}"
            ]
          },
          "metadata": {
            "tags": []
          },
          "execution_count": 20
        }
      ]
    },
    {
      "cell_type": "markdown",
      "metadata": {
        "id": "ul06yQcNU3Lx"
      },
      "source": [
        "## Carrying out weighted classification of the test set using these 50 decision trees, along with their validation accuracies as weights"
      ]
    },
    {
      "cell_type": "code",
      "metadata": {
        "id": "iCzpi1ETL4M0"
      },
      "source": [
        "count=0\n",
        "for i in range(testx.shape[0]):\n",
        "  probs=np.zeros((1,10))\n",
        "  for key in tree_acc.keys():\n",
        "    test=testx[i][tree_feat[key]].reshape(1,-1) # getting the feature numbers for the tree required\n",
        "    probs+=tree_acc[key]*trees[key].predict_proba(test) # summing probabilities of all labels\n",
        "  if testy[i]==np.argmax(probs): # finding max probability(can be greater than 1 too) of 10 labels\n",
        "    count+=1\n",
        "accuracy=count/testx.shape[0]\n"
      ],
      "execution_count": null,
      "outputs": []
    },
    {
      "cell_type": "code",
      "metadata": {
        "id": "F2lmzAEGRzV3",
        "outputId": "beab4f25-173e-486d-ade4-2ecf970f037b",
        "colab": {
          "base_uri": "https://localhost:8080/",
          "height": 33
        }
      },
      "source": [
        "accuracy"
      ],
      "execution_count": null,
      "outputs": [
        {
          "output_type": "execute_result",
          "data": {
            "text/plain": [
              "0.8069285714285714"
            ]
          },
          "metadata": {
            "tags": []
          },
          "execution_count": 22
        }
      ]
    },
    {
      "cell_type": "markdown",
      "metadata": {
        "id": "XaTT64cZESxX"
      },
      "source": [
        "## Implementing Ensemble Adaboost Algorithm from Scratch"
      ]
    },
    {
      "cell_type": "code",
      "metadata": {
        "id": "QAxQ3efcHA6x"
      },
      "source": [
        "def update_weights(weights,error):\n",
        "  classes=10\n",
        "  e=np.sum(error)\n",
        "  #print(e)\n",
        "  alpha=0.5*(np.log((1-e)/e) + np.log(classes-1)) # calculate multiclass alpha\n",
        "  #print(alpha)\n",
        "  for i in range(weights.shape[0]):\n",
        "    if error[i]!=0:\n",
        "      weights[i]*=np.exp(alpha)       # if wrong prediction increase weight\n",
        "    else:\n",
        "      weights[i]*=np.exp(-alpha)\n",
        "  weights=weights/np.sum(weights) # normalize\n",
        "  return alpha,weights"
      ],
      "execution_count": null,
      "outputs": []
    },
    {
      "cell_type": "code",
      "metadata": {
        "id": "qD8hBb4oEVIf"
      },
      "source": [
        "## initialize weights\n",
        "N=trainx.shape[0]\n",
        "weights=np.ones(N)/N;\n",
        "# train on our random forest and get training error\n",
        "count=0\n",
        "init_error=np.zeros(N); # binary vector of misclassified outputs\n",
        "for i in range(trainx.shape[0]):\n",
        "  probs=np.zeros((1,10))\n",
        "  for key in tree_acc.keys():\n",
        "    train=trainx[i][tree_feat[key]].reshape(1,-1) # getting the feature numbers for the tree required\n",
        "    probs+=tree_acc[key]*trees[key].predict_proba(train) # summing probabilities of all labels\n",
        "  if trainy[i]==np.argmax(probs): # finding max probability(can be greater than 1 too) of 10 labels\n",
        "    count+=1\n",
        "  else:\n",
        "    init_error[i]=1\n"
      ],
      "execution_count": null,
      "outputs": []
    },
    {
      "cell_type": "code",
      "metadata": {
        "id": "-5FFsslGOCwt"
      },
      "source": [
        "w_cpy=weights\n",
        "err_cpy=init_error\n",
        "initial_error=np.multiply(w_cpy,err_cpy) # weighted error\n",
        "base_perf,weights=update_weights(w_cpy,initial_error) # base classifier weight and alpha"
      ],
      "execution_count": null,
      "outputs": []
    },
    {
      "cell_type": "code",
      "metadata": {
        "id": "e-F9QbR4Lum6"
      },
      "source": [
        "perf={}\n",
        "ada={}\n",
        "for i in range(20):\n",
        "  error=np.zeros(N)\n",
        "  treea=DecisionTreeClassifier(criterion='entropy',max_depth=5)\n",
        "  treea.fit(trainx,trainy,sample_weight=weights)\n",
        "  ypred=treea.predict(trainx)\n",
        "  ada[i]=treea\n",
        "  for j in range(N):\n",
        "    if trainy[j]!=ypred[j]:\n",
        "      error[j]=1\n",
        "  finerror=np.multiply(weights,error) # update error\n",
        "  perf[i],weights=update_weights(weights,finerror) # update alphas and weights"
      ],
      "execution_count": null,
      "outputs": []
    },
    {
      "cell_type": "markdown",
      "metadata": {
        "id": "OPJb2_SSuwBs"
      },
      "source": [
        "## Using this ensemble, carrying out classification on the test set and reporting accuracy"
      ]
    },
    {
      "cell_type": "code",
      "metadata": {
        "id": "9La0wYpEWm_e"
      },
      "source": [
        "def random_predict(X):\n",
        "  probs=np.zeros((1,10))\n",
        "  for key in tree_acc.keys():\n",
        "    temp=X[tree_feat[key]].reshape(1,-1) # getting the feature numbers for the tree required\n",
        "    probs+=tree_acc[key]*trees[key].predict_proba(temp) # summing probabilities of all labels\n",
        "  return np.argmax(probs) # return prediction for given X datapoint"
      ],
      "execution_count": null,
      "outputs": []
    },
    {
      "cell_type": "code",
      "metadata": {
        "id": "5XGJKP4yew4l"
      },
      "source": [
        "ypred=np.zeros(testx.shape[0])\n",
        "for i in range(testx.shape[0]):\n",
        "  prob=np.zeros(10)\n",
        "  prob[random_predict(testx[i])]+=base_perf # adding the base alpha for the randome forest predicted output\n",
        "  for key in ada.keys():\n",
        "    prob[ada[key].predict(testx[i].reshape(1,-1))]+=perf[key]  # summing alphas for each label\n",
        "  ypred[i]=np.argmax(prob)"
      ],
      "execution_count": null,
      "outputs": []
    },
    {
      "cell_type": "code",
      "metadata": {
        "id": "Tr9Kfs3ngEON"
      },
      "source": [
        "accuracy=accuracy_score(ypred,testy)"
      ],
      "execution_count": null,
      "outputs": []
    },
    {
      "cell_type": "code",
      "metadata": {
        "id": "bel8VWo5h4zX",
        "outputId": "038245e4-4071-4d29-c703-86668dc3dbae",
        "colab": {
          "base_uri": "https://localhost:8080/",
          "height": 33
        }
      },
      "source": [
        "accuracy"
      ],
      "execution_count": null,
      "outputs": [
        {
          "output_type": "execute_result",
          "data": {
            "text/plain": [
              "0.8609285714285714"
            ]
          },
          "metadata": {
            "tags": []
          },
          "execution_count": 30
        }
      ]
    }
  ]
}