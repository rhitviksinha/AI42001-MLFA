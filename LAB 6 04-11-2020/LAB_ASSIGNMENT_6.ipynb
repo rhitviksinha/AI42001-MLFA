{
  "nbformat": 4,
  "nbformat_minor": 0,
  "metadata": {
    "kernelspec": {
      "display_name": "Python 3",
      "language": "python",
      "name": "python3"
    },
    "language_info": {
      "codemirror_mode": {
        "name": "ipython",
        "version": 3
      },
      "file_extension": ".py",
      "mimetype": "text/x-python",
      "name": "python",
      "nbconvert_exporter": "python",
      "pygments_lexer": "ipython3",
      "version": "3.8.3"
    },
    "colab": {
      "name": "Assignment6_Group19_18EE30021.ipynb",
      "provenance": [],
      "collapsed_sections": []
    }
  },
  "cells": [
    {
      "cell_type": "markdown",
      "metadata": {
        "id": "v06ApP-hKCYy"
      },
      "source": [
        "# **Hand gesture Classification using SVM**\n",
        "Submitted By:  \n",
        "> **Group 19**  \n",
        "*18EE30021 : Pratyush Jaiswal*    \n",
        "*18EE30029 : Nuruddin Jiruwala*       \n",
        "*18EE10043 : Rhitvik Sinha*  \n",
        "*18EE10062 : Akshat Kumar Gupta*  \n",
        "\n",
        "\n"
      ]
    },
    {
      "cell_type": "code",
      "metadata": {
        "id": "UcZY1c5Va9WQ"
      },
      "source": [
        "import cv2\n",
        "import os\n",
        "import numpy as np\n",
        "import pandas as pd\n",
        "import random\n",
        "from sklearn.svm import SVC\n",
        "from sklearn.metrics import accuracy_score\n",
        "from sklearn.metrics import classification_report\n",
        "La=os.listdir(\"A/\")\n",
        "Ln=os.listdir(\"nothing/\")\n",
        "#listdir gives list in alphabetical order which is harmful for us so it is ditched later on"
      ],
      "execution_count": null,
      "outputs": []
    },
    {
      "cell_type": "code",
      "metadata": {
        "id": "9pc0bTVKa9Wa"
      },
      "source": [
        "#Trying canny edge detection for one image\n",
        "img=cv2.imread(\"A/\"+La[0],0)\n",
        "\n",
        "imgb=cv2.imread(\"nothing/\"+Ln[0],0)\n",
        "\n",
        "finala=img-imgb\n",
        "#_,finale=cv2.threshold(finala,60,255,cv2.THRESH_BINARY)\n",
        "final_small=cv2.resize(finala,(50,50),interpolation=cv2.INTER_AREA)\n",
        "\n",
        "edges=cv2.Canny(final_small,400,700)\n",
        "\n",
        "cv2.imshow('image',edges)\n",
        "cv2.waitKey(0)\n",
        "cv2.destroyAllWindows()"
      ],
      "execution_count": null,
      "outputs": []
    },
    {
      "cell_type": "code",
      "metadata": {
        "id": "4BNwTBCJa9Wg",
        "outputId": "4dfc4f50-0522-4525-bb61-b263d34d3263"
      },
      "source": [
        "edges.shape"
      ],
      "execution_count": null,
      "outputs": [
        {
          "output_type": "execute_result",
          "data": {
            "text/plain": [
              "(50, 50)"
            ]
          },
          "metadata": {
            "tags": []
          },
          "execution_count": 60
        }
      ]
    },
    {
      "cell_type": "markdown",
      "metadata": {
        "id": "9qmAfs9ta9Wr"
      },
      "source": [
        " ## Data preprocessing"
      ]
    },
    {
      "cell_type": "markdown",
      "metadata": {
        "id": "2Wq6_4_la9Wt"
      },
      "source": [
        "We have to predict what the hand gesture of any image could be. So one approach could be to find the edge around the hand as best as we can and those pixels could give us the relevant info and be our features respectively. Here 9 classes A-I are there with 3000 images each. So total 3000 X 9 i.e. 27000 images. 70% gives 18900 images. This data set is huge and SVM would never compile as its time complexity depends on the square of the number of datapoints. So took 300(train+test) images instead of all. Also the image dimensions are 200X200, this is scaled down to 50X50 as each pixel would be a feature here. Canny is used for edge detection on image-background."
      ]
    },
    {
      "cell_type": "code",
      "metadata": {
        "id": "5ahf429ca9Wu"
      },
      "source": [
        "labels=['A','B','C','D','E','F','G','H','I']\n",
        "train_features=[]\n",
        "train_labels=[]\n",
        "test_features=[]\n",
        "test_labels=[]\n"
      ],
      "execution_count": null,
      "outputs": []
    },
    {
      "cell_type": "code",
      "metadata": {
        "id": "TrgQ-KBNa9W1"
      },
      "source": [
        "for i in range(len(labels)):\n",
        "    l=list(range(300))\n",
        "    train_pics_indices=random.sample(l,210) # 10% of original dataset\n",
        "    test_pics_indices=list(np.setdiff1d(l,train_pics_indices)) # get remaining 90 indices\n",
        "    \n",
        "    for idx in train_pics_indices:\n",
        "        img_name=labels[i]+str(idx+1)+'.jpg'\n",
        "        img_og=cv2.imread(labels[i]+'/'+img_name,0) # reading in B and W\n",
        "        img_bg='nothing'+str(idx+1)+'.jpg'\n",
        "        img_bg=cv2.imread('nothing'+'/'+img_bg,0)\n",
        "        img=img_og-img_bg\n",
        "        final_img=cv2.resize(img,(50,50),interpolation=cv2.INTER_AREA)\n",
        "        edgy=cv2.Canny(final_img,400,700) # params were set through trial and error and some internet searching\n",
        "        edgy=np.array(edgy==255,dtype='int32') # change to 0 1 binary\n",
        "        edgy=list(np.reshape(edgy,(-1,))) # change to 1D\n",
        "        train_features.append(edgy)\n",
        "        train_labels.append(i)\n",
        "        \n",
        "    # doing the same for test data set\n",
        "    for idx in test_pics_indices:\n",
        "        img_name=labels[i]+str(idx+1)+'.jpg'\n",
        "        img_og=cv2.imread(labels[i]+'/'+img_name,0) # reading in B and W\n",
        "        img_bg='nothing'+str(idx+1)+'.jpg'\n",
        "        img_bg=cv2.imread('nothing'+'/'+img_bg,0)\n",
        "        img=img_og-img_bg\n",
        "        final_img=cv2.resize(img,(50,50),interpolation=cv2.INTER_AREA)\n",
        "        edgy=cv2.Canny(final_img,400,700) # params were set through trial and error and some internet searching\n",
        "        edgy=np.array(edgy==255,dtype='int32') # change to 0 1 binary\n",
        "        edgy=list(np.reshape(edgy,(-1,))) # change to 1D\n",
        "        test_features.append(edgy)\n",
        "        test_labels.append(i)\n",
        "        \n",
        "        "
      ],
      "execution_count": null,
      "outputs": []
    },
    {
      "cell_type": "code",
      "metadata": {
        "id": "9AdEZ4iIa9W7",
        "outputId": "b41ddac1-4a82-4693-fe4c-b832e6c47f9e"
      },
      "source": [
        "np.array(train_features).shape"
      ],
      "execution_count": null,
      "outputs": [
        {
          "output_type": "execute_result",
          "data": {
            "text/plain": [
              "(1890, 2500)"
            ]
          },
          "metadata": {
            "tags": []
          },
          "execution_count": 63
        }
      ]
    },
    {
      "cell_type": "code",
      "metadata": {
        "id": "QZE_k-1Da9XC",
        "outputId": "617e1033-f595-4ece-e191-8457781752a2"
      },
      "source": [
        "np.array(train_labels).shape"
      ],
      "execution_count": null,
      "outputs": [
        {
          "output_type": "execute_result",
          "data": {
            "text/plain": [
              "(1890,)"
            ]
          },
          "metadata": {
            "tags": []
          },
          "execution_count": 64
        }
      ]
    },
    {
      "cell_type": "code",
      "metadata": {
        "id": "F43hhSGRa9XO",
        "outputId": "08af414e-f0a0-44e0-fa48-562b7a30d48b"
      },
      "source": [
        "np.array(test_features).shape"
      ],
      "execution_count": null,
      "outputs": [
        {
          "output_type": "execute_result",
          "data": {
            "text/plain": [
              "(810, 2500)"
            ]
          },
          "metadata": {
            "tags": []
          },
          "execution_count": 65
        }
      ]
    },
    {
      "cell_type": "code",
      "metadata": {
        "id": "OZyhRJF5a9XT",
        "outputId": "16e677ad-1c5e-499a-a877-7d78280aeea5"
      },
      "source": [
        "np.array(test_labels).shape"
      ],
      "execution_count": null,
      "outputs": [
        {
          "output_type": "execute_result",
          "data": {
            "text/plain": [
              "(810,)"
            ]
          },
          "metadata": {
            "tags": []
          },
          "execution_count": 66
        }
      ]
    },
    {
      "cell_type": "code",
      "metadata": {
        "id": "L6Ss-xWFa9Xb"
      },
      "source": [
        "for i in range(1890):\n",
        "    train_features[i].append(train_labels[i])  # append features and label for final dataframe\n",
        "for i in range(810):\n",
        "    test_features[i].append(test_labels[i])"
      ],
      "execution_count": null,
      "outputs": []
    },
    {
      "cell_type": "code",
      "metadata": {
        "id": "7FHv7Fraa9Xh"
      },
      "source": [
        "cols=[]\n",
        "for i in range(2500):\n",
        "    cols.append('Feat_'+str(i+1))\n",
        "cols.append('Label')"
      ],
      "execution_count": null,
      "outputs": []
    },
    {
      "cell_type": "code",
      "metadata": {
        "id": "6UA2gem5a9Xo",
        "outputId": "b82dc6e1-fc96-49d6-cfeb-88b0a072fcdc"
      },
      "source": [
        "df_train=pd.DataFrame(train_features,columns=cols)\n",
        "df_train = df_train.sample(frac = 1)\n",
        "df_train.reset_index(drop=True)"
      ],
      "execution_count": null,
      "outputs": [
        {
          "output_type": "execute_result",
          "data": {
            "text/html": [
              "<div>\n",
              "<style scoped>\n",
              "    .dataframe tbody tr th:only-of-type {\n",
              "        vertical-align: middle;\n",
              "    }\n",
              "\n",
              "    .dataframe tbody tr th {\n",
              "        vertical-align: top;\n",
              "    }\n",
              "\n",
              "    .dataframe thead th {\n",
              "        text-align: right;\n",
              "    }\n",
              "</style>\n",
              "<table border=\"1\" class=\"dataframe\">\n",
              "  <thead>\n",
              "    <tr style=\"text-align: right;\">\n",
              "      <th></th>\n",
              "      <th>Feat_1</th>\n",
              "      <th>Feat_2</th>\n",
              "      <th>Feat_3</th>\n",
              "      <th>Feat_4</th>\n",
              "      <th>Feat_5</th>\n",
              "      <th>Feat_6</th>\n",
              "      <th>Feat_7</th>\n",
              "      <th>Feat_8</th>\n",
              "      <th>Feat_9</th>\n",
              "      <th>Feat_10</th>\n",
              "      <th>...</th>\n",
              "      <th>Feat_2492</th>\n",
              "      <th>Feat_2493</th>\n",
              "      <th>Feat_2494</th>\n",
              "      <th>Feat_2495</th>\n",
              "      <th>Feat_2496</th>\n",
              "      <th>Feat_2497</th>\n",
              "      <th>Feat_2498</th>\n",
              "      <th>Feat_2499</th>\n",
              "      <th>Feat_2500</th>\n",
              "      <th>Label</th>\n",
              "    </tr>\n",
              "  </thead>\n",
              "  <tbody>\n",
              "    <tr>\n",
              "      <th>0</th>\n",
              "      <td>0</td>\n",
              "      <td>0</td>\n",
              "      <td>1</td>\n",
              "      <td>1</td>\n",
              "      <td>0</td>\n",
              "      <td>0</td>\n",
              "      <td>0</td>\n",
              "      <td>0</td>\n",
              "      <td>0</td>\n",
              "      <td>0</td>\n",
              "      <td>...</td>\n",
              "      <td>0</td>\n",
              "      <td>0</td>\n",
              "      <td>0</td>\n",
              "      <td>0</td>\n",
              "      <td>0</td>\n",
              "      <td>0</td>\n",
              "      <td>0</td>\n",
              "      <td>0</td>\n",
              "      <td>0</td>\n",
              "      <td>4</td>\n",
              "    </tr>\n",
              "    <tr>\n",
              "      <th>1</th>\n",
              "      <td>0</td>\n",
              "      <td>0</td>\n",
              "      <td>0</td>\n",
              "      <td>1</td>\n",
              "      <td>1</td>\n",
              "      <td>1</td>\n",
              "      <td>1</td>\n",
              "      <td>0</td>\n",
              "      <td>1</td>\n",
              "      <td>0</td>\n",
              "      <td>...</td>\n",
              "      <td>0</td>\n",
              "      <td>0</td>\n",
              "      <td>0</td>\n",
              "      <td>0</td>\n",
              "      <td>0</td>\n",
              "      <td>0</td>\n",
              "      <td>0</td>\n",
              "      <td>0</td>\n",
              "      <td>0</td>\n",
              "      <td>2</td>\n",
              "    </tr>\n",
              "    <tr>\n",
              "      <th>2</th>\n",
              "      <td>0</td>\n",
              "      <td>0</td>\n",
              "      <td>0</td>\n",
              "      <td>0</td>\n",
              "      <td>0</td>\n",
              "      <td>0</td>\n",
              "      <td>0</td>\n",
              "      <td>0</td>\n",
              "      <td>0</td>\n",
              "      <td>0</td>\n",
              "      <td>...</td>\n",
              "      <td>0</td>\n",
              "      <td>0</td>\n",
              "      <td>0</td>\n",
              "      <td>0</td>\n",
              "      <td>0</td>\n",
              "      <td>0</td>\n",
              "      <td>0</td>\n",
              "      <td>0</td>\n",
              "      <td>0</td>\n",
              "      <td>5</td>\n",
              "    </tr>\n",
              "    <tr>\n",
              "      <th>3</th>\n",
              "      <td>0</td>\n",
              "      <td>0</td>\n",
              "      <td>0</td>\n",
              "      <td>0</td>\n",
              "      <td>1</td>\n",
              "      <td>1</td>\n",
              "      <td>0</td>\n",
              "      <td>0</td>\n",
              "      <td>0</td>\n",
              "      <td>0</td>\n",
              "      <td>...</td>\n",
              "      <td>0</td>\n",
              "      <td>0</td>\n",
              "      <td>0</td>\n",
              "      <td>0</td>\n",
              "      <td>1</td>\n",
              "      <td>0</td>\n",
              "      <td>0</td>\n",
              "      <td>0</td>\n",
              "      <td>0</td>\n",
              "      <td>2</td>\n",
              "    </tr>\n",
              "    <tr>\n",
              "      <th>4</th>\n",
              "      <td>0</td>\n",
              "      <td>0</td>\n",
              "      <td>1</td>\n",
              "      <td>1</td>\n",
              "      <td>0</td>\n",
              "      <td>0</td>\n",
              "      <td>0</td>\n",
              "      <td>0</td>\n",
              "      <td>0</td>\n",
              "      <td>0</td>\n",
              "      <td>...</td>\n",
              "      <td>0</td>\n",
              "      <td>0</td>\n",
              "      <td>0</td>\n",
              "      <td>0</td>\n",
              "      <td>0</td>\n",
              "      <td>0</td>\n",
              "      <td>0</td>\n",
              "      <td>1</td>\n",
              "      <td>0</td>\n",
              "      <td>5</td>\n",
              "    </tr>\n",
              "    <tr>\n",
              "      <th>...</th>\n",
              "      <td>...</td>\n",
              "      <td>...</td>\n",
              "      <td>...</td>\n",
              "      <td>...</td>\n",
              "      <td>...</td>\n",
              "      <td>...</td>\n",
              "      <td>...</td>\n",
              "      <td>...</td>\n",
              "      <td>...</td>\n",
              "      <td>...</td>\n",
              "      <td>...</td>\n",
              "      <td>...</td>\n",
              "      <td>...</td>\n",
              "      <td>...</td>\n",
              "      <td>...</td>\n",
              "      <td>...</td>\n",
              "      <td>...</td>\n",
              "      <td>...</td>\n",
              "      <td>...</td>\n",
              "      <td>...</td>\n",
              "      <td>...</td>\n",
              "    </tr>\n",
              "    <tr>\n",
              "      <th>1885</th>\n",
              "      <td>0</td>\n",
              "      <td>1</td>\n",
              "      <td>0</td>\n",
              "      <td>0</td>\n",
              "      <td>0</td>\n",
              "      <td>0</td>\n",
              "      <td>1</td>\n",
              "      <td>0</td>\n",
              "      <td>0</td>\n",
              "      <td>0</td>\n",
              "      <td>...</td>\n",
              "      <td>0</td>\n",
              "      <td>0</td>\n",
              "      <td>0</td>\n",
              "      <td>0</td>\n",
              "      <td>0</td>\n",
              "      <td>0</td>\n",
              "      <td>0</td>\n",
              "      <td>0</td>\n",
              "      <td>0</td>\n",
              "      <td>0</td>\n",
              "    </tr>\n",
              "    <tr>\n",
              "      <th>1886</th>\n",
              "      <td>0</td>\n",
              "      <td>0</td>\n",
              "      <td>0</td>\n",
              "      <td>0</td>\n",
              "      <td>0</td>\n",
              "      <td>0</td>\n",
              "      <td>0</td>\n",
              "      <td>0</td>\n",
              "      <td>0</td>\n",
              "      <td>0</td>\n",
              "      <td>...</td>\n",
              "      <td>0</td>\n",
              "      <td>0</td>\n",
              "      <td>0</td>\n",
              "      <td>1</td>\n",
              "      <td>0</td>\n",
              "      <td>0</td>\n",
              "      <td>0</td>\n",
              "      <td>0</td>\n",
              "      <td>0</td>\n",
              "      <td>2</td>\n",
              "    </tr>\n",
              "    <tr>\n",
              "      <th>1887</th>\n",
              "      <td>0</td>\n",
              "      <td>0</td>\n",
              "      <td>0</td>\n",
              "      <td>0</td>\n",
              "      <td>0</td>\n",
              "      <td>0</td>\n",
              "      <td>0</td>\n",
              "      <td>0</td>\n",
              "      <td>0</td>\n",
              "      <td>0</td>\n",
              "      <td>...</td>\n",
              "      <td>0</td>\n",
              "      <td>0</td>\n",
              "      <td>0</td>\n",
              "      <td>0</td>\n",
              "      <td>0</td>\n",
              "      <td>0</td>\n",
              "      <td>1</td>\n",
              "      <td>0</td>\n",
              "      <td>0</td>\n",
              "      <td>4</td>\n",
              "    </tr>\n",
              "    <tr>\n",
              "      <th>1888</th>\n",
              "      <td>0</td>\n",
              "      <td>0</td>\n",
              "      <td>0</td>\n",
              "      <td>0</td>\n",
              "      <td>0</td>\n",
              "      <td>0</td>\n",
              "      <td>0</td>\n",
              "      <td>0</td>\n",
              "      <td>0</td>\n",
              "      <td>0</td>\n",
              "      <td>...</td>\n",
              "      <td>0</td>\n",
              "      <td>0</td>\n",
              "      <td>0</td>\n",
              "      <td>0</td>\n",
              "      <td>0</td>\n",
              "      <td>0</td>\n",
              "      <td>0</td>\n",
              "      <td>0</td>\n",
              "      <td>0</td>\n",
              "      <td>0</td>\n",
              "    </tr>\n",
              "    <tr>\n",
              "      <th>1889</th>\n",
              "      <td>0</td>\n",
              "      <td>0</td>\n",
              "      <td>1</td>\n",
              "      <td>1</td>\n",
              "      <td>1</td>\n",
              "      <td>1</td>\n",
              "      <td>0</td>\n",
              "      <td>0</td>\n",
              "      <td>0</td>\n",
              "      <td>0</td>\n",
              "      <td>...</td>\n",
              "      <td>0</td>\n",
              "      <td>0</td>\n",
              "      <td>0</td>\n",
              "      <td>0</td>\n",
              "      <td>0</td>\n",
              "      <td>0</td>\n",
              "      <td>0</td>\n",
              "      <td>1</td>\n",
              "      <td>0</td>\n",
              "      <td>1</td>\n",
              "    </tr>\n",
              "  </tbody>\n",
              "</table>\n",
              "<p>1890 rows × 2501 columns</p>\n",
              "</div>"
            ],
            "text/plain": [
              "      Feat_1  Feat_2  Feat_3  Feat_4  Feat_5  Feat_6  Feat_7  Feat_8  Feat_9  \\\n",
              "0          0       0       1       1       0       0       0       0       0   \n",
              "1          0       0       0       1       1       1       1       0       1   \n",
              "2          0       0       0       0       0       0       0       0       0   \n",
              "3          0       0       0       0       1       1       0       0       0   \n",
              "4          0       0       1       1       0       0       0       0       0   \n",
              "...      ...     ...     ...     ...     ...     ...     ...     ...     ...   \n",
              "1885       0       1       0       0       0       0       1       0       0   \n",
              "1886       0       0       0       0       0       0       0       0       0   \n",
              "1887       0       0       0       0       0       0       0       0       0   \n",
              "1888       0       0       0       0       0       0       0       0       0   \n",
              "1889       0       0       1       1       1       1       0       0       0   \n",
              "\n",
              "      Feat_10  ...  Feat_2492  Feat_2493  Feat_2494  Feat_2495  Feat_2496  \\\n",
              "0           0  ...          0          0          0          0          0   \n",
              "1           0  ...          0          0          0          0          0   \n",
              "2           0  ...          0          0          0          0          0   \n",
              "3           0  ...          0          0          0          0          1   \n",
              "4           0  ...          0          0          0          0          0   \n",
              "...       ...  ...        ...        ...        ...        ...        ...   \n",
              "1885        0  ...          0          0          0          0          0   \n",
              "1886        0  ...          0          0          0          1          0   \n",
              "1887        0  ...          0          0          0          0          0   \n",
              "1888        0  ...          0          0          0          0          0   \n",
              "1889        0  ...          0          0          0          0          0   \n",
              "\n",
              "      Feat_2497  Feat_2498  Feat_2499  Feat_2500  Label  \n",
              "0             0          0          0          0      4  \n",
              "1             0          0          0          0      2  \n",
              "2             0          0          0          0      5  \n",
              "3             0          0          0          0      2  \n",
              "4             0          0          1          0      5  \n",
              "...         ...        ...        ...        ...    ...  \n",
              "1885          0          0          0          0      0  \n",
              "1886          0          0          0          0      2  \n",
              "1887          0          1          0          0      4  \n",
              "1888          0          0          0          0      0  \n",
              "1889          0          0          1          0      1  \n",
              "\n",
              "[1890 rows x 2501 columns]"
            ]
          },
          "metadata": {
            "tags": []
          },
          "execution_count": 69
        }
      ]
    },
    {
      "cell_type": "code",
      "metadata": {
        "id": "fImO3QRWa9Xv",
        "outputId": "ea9b491c-6a4f-4392-da53-4f3f6c7b8c1c"
      },
      "source": [
        "df_test=pd.DataFrame(test_features,columns=cols)\n",
        "df_test = df_test.sample(frac = 1)\n",
        "df_test.reset_index(drop=True)"
      ],
      "execution_count": null,
      "outputs": [
        {
          "output_type": "execute_result",
          "data": {
            "text/html": [
              "<div>\n",
              "<style scoped>\n",
              "    .dataframe tbody tr th:only-of-type {\n",
              "        vertical-align: middle;\n",
              "    }\n",
              "\n",
              "    .dataframe tbody tr th {\n",
              "        vertical-align: top;\n",
              "    }\n",
              "\n",
              "    .dataframe thead th {\n",
              "        text-align: right;\n",
              "    }\n",
              "</style>\n",
              "<table border=\"1\" class=\"dataframe\">\n",
              "  <thead>\n",
              "    <tr style=\"text-align: right;\">\n",
              "      <th></th>\n",
              "      <th>Feat_1</th>\n",
              "      <th>Feat_2</th>\n",
              "      <th>Feat_3</th>\n",
              "      <th>Feat_4</th>\n",
              "      <th>Feat_5</th>\n",
              "      <th>Feat_6</th>\n",
              "      <th>Feat_7</th>\n",
              "      <th>Feat_8</th>\n",
              "      <th>Feat_9</th>\n",
              "      <th>Feat_10</th>\n",
              "      <th>...</th>\n",
              "      <th>Feat_2492</th>\n",
              "      <th>Feat_2493</th>\n",
              "      <th>Feat_2494</th>\n",
              "      <th>Feat_2495</th>\n",
              "      <th>Feat_2496</th>\n",
              "      <th>Feat_2497</th>\n",
              "      <th>Feat_2498</th>\n",
              "      <th>Feat_2499</th>\n",
              "      <th>Feat_2500</th>\n",
              "      <th>Label</th>\n",
              "    </tr>\n",
              "  </thead>\n",
              "  <tbody>\n",
              "    <tr>\n",
              "      <th>0</th>\n",
              "      <td>0</td>\n",
              "      <td>0</td>\n",
              "      <td>0</td>\n",
              "      <td>0</td>\n",
              "      <td>0</td>\n",
              "      <td>0</td>\n",
              "      <td>0</td>\n",
              "      <td>0</td>\n",
              "      <td>0</td>\n",
              "      <td>0</td>\n",
              "      <td>...</td>\n",
              "      <td>0</td>\n",
              "      <td>0</td>\n",
              "      <td>0</td>\n",
              "      <td>0</td>\n",
              "      <td>0</td>\n",
              "      <td>0</td>\n",
              "      <td>0</td>\n",
              "      <td>0</td>\n",
              "      <td>0</td>\n",
              "      <td>4</td>\n",
              "    </tr>\n",
              "    <tr>\n",
              "      <th>1</th>\n",
              "      <td>0</td>\n",
              "      <td>0</td>\n",
              "      <td>0</td>\n",
              "      <td>0</td>\n",
              "      <td>0</td>\n",
              "      <td>0</td>\n",
              "      <td>0</td>\n",
              "      <td>0</td>\n",
              "      <td>0</td>\n",
              "      <td>0</td>\n",
              "      <td>...</td>\n",
              "      <td>0</td>\n",
              "      <td>0</td>\n",
              "      <td>0</td>\n",
              "      <td>0</td>\n",
              "      <td>0</td>\n",
              "      <td>0</td>\n",
              "      <td>0</td>\n",
              "      <td>0</td>\n",
              "      <td>0</td>\n",
              "      <td>0</td>\n",
              "    </tr>\n",
              "    <tr>\n",
              "      <th>2</th>\n",
              "      <td>0</td>\n",
              "      <td>0</td>\n",
              "      <td>0</td>\n",
              "      <td>0</td>\n",
              "      <td>0</td>\n",
              "      <td>0</td>\n",
              "      <td>0</td>\n",
              "      <td>0</td>\n",
              "      <td>0</td>\n",
              "      <td>0</td>\n",
              "      <td>...</td>\n",
              "      <td>0</td>\n",
              "      <td>0</td>\n",
              "      <td>0</td>\n",
              "      <td>0</td>\n",
              "      <td>0</td>\n",
              "      <td>0</td>\n",
              "      <td>0</td>\n",
              "      <td>0</td>\n",
              "      <td>0</td>\n",
              "      <td>7</td>\n",
              "    </tr>\n",
              "    <tr>\n",
              "      <th>3</th>\n",
              "      <td>0</td>\n",
              "      <td>0</td>\n",
              "      <td>0</td>\n",
              "      <td>0</td>\n",
              "      <td>0</td>\n",
              "      <td>0</td>\n",
              "      <td>0</td>\n",
              "      <td>0</td>\n",
              "      <td>0</td>\n",
              "      <td>0</td>\n",
              "      <td>...</td>\n",
              "      <td>0</td>\n",
              "      <td>0</td>\n",
              "      <td>0</td>\n",
              "      <td>0</td>\n",
              "      <td>0</td>\n",
              "      <td>0</td>\n",
              "      <td>0</td>\n",
              "      <td>0</td>\n",
              "      <td>0</td>\n",
              "      <td>2</td>\n",
              "    </tr>\n",
              "    <tr>\n",
              "      <th>4</th>\n",
              "      <td>0</td>\n",
              "      <td>0</td>\n",
              "      <td>0</td>\n",
              "      <td>0</td>\n",
              "      <td>0</td>\n",
              "      <td>0</td>\n",
              "      <td>0</td>\n",
              "      <td>0</td>\n",
              "      <td>0</td>\n",
              "      <td>0</td>\n",
              "      <td>...</td>\n",
              "      <td>0</td>\n",
              "      <td>0</td>\n",
              "      <td>0</td>\n",
              "      <td>0</td>\n",
              "      <td>0</td>\n",
              "      <td>0</td>\n",
              "      <td>0</td>\n",
              "      <td>0</td>\n",
              "      <td>0</td>\n",
              "      <td>4</td>\n",
              "    </tr>\n",
              "    <tr>\n",
              "      <th>...</th>\n",
              "      <td>...</td>\n",
              "      <td>...</td>\n",
              "      <td>...</td>\n",
              "      <td>...</td>\n",
              "      <td>...</td>\n",
              "      <td>...</td>\n",
              "      <td>...</td>\n",
              "      <td>...</td>\n",
              "      <td>...</td>\n",
              "      <td>...</td>\n",
              "      <td>...</td>\n",
              "      <td>...</td>\n",
              "      <td>...</td>\n",
              "      <td>...</td>\n",
              "      <td>...</td>\n",
              "      <td>...</td>\n",
              "      <td>...</td>\n",
              "      <td>...</td>\n",
              "      <td>...</td>\n",
              "      <td>...</td>\n",
              "      <td>...</td>\n",
              "    </tr>\n",
              "    <tr>\n",
              "      <th>805</th>\n",
              "      <td>0</td>\n",
              "      <td>0</td>\n",
              "      <td>0</td>\n",
              "      <td>0</td>\n",
              "      <td>0</td>\n",
              "      <td>0</td>\n",
              "      <td>0</td>\n",
              "      <td>0</td>\n",
              "      <td>0</td>\n",
              "      <td>0</td>\n",
              "      <td>...</td>\n",
              "      <td>0</td>\n",
              "      <td>0</td>\n",
              "      <td>0</td>\n",
              "      <td>0</td>\n",
              "      <td>0</td>\n",
              "      <td>0</td>\n",
              "      <td>0</td>\n",
              "      <td>0</td>\n",
              "      <td>0</td>\n",
              "      <td>5</td>\n",
              "    </tr>\n",
              "    <tr>\n",
              "      <th>806</th>\n",
              "      <td>0</td>\n",
              "      <td>0</td>\n",
              "      <td>0</td>\n",
              "      <td>1</td>\n",
              "      <td>1</td>\n",
              "      <td>0</td>\n",
              "      <td>1</td>\n",
              "      <td>0</td>\n",
              "      <td>0</td>\n",
              "      <td>0</td>\n",
              "      <td>...</td>\n",
              "      <td>0</td>\n",
              "      <td>0</td>\n",
              "      <td>0</td>\n",
              "      <td>0</td>\n",
              "      <td>0</td>\n",
              "      <td>0</td>\n",
              "      <td>0</td>\n",
              "      <td>0</td>\n",
              "      <td>0</td>\n",
              "      <td>1</td>\n",
              "    </tr>\n",
              "    <tr>\n",
              "      <th>807</th>\n",
              "      <td>0</td>\n",
              "      <td>1</td>\n",
              "      <td>1</td>\n",
              "      <td>0</td>\n",
              "      <td>1</td>\n",
              "      <td>0</td>\n",
              "      <td>0</td>\n",
              "      <td>0</td>\n",
              "      <td>0</td>\n",
              "      <td>0</td>\n",
              "      <td>...</td>\n",
              "      <td>0</td>\n",
              "      <td>0</td>\n",
              "      <td>0</td>\n",
              "      <td>0</td>\n",
              "      <td>0</td>\n",
              "      <td>0</td>\n",
              "      <td>0</td>\n",
              "      <td>0</td>\n",
              "      <td>0</td>\n",
              "      <td>2</td>\n",
              "    </tr>\n",
              "    <tr>\n",
              "      <th>808</th>\n",
              "      <td>0</td>\n",
              "      <td>0</td>\n",
              "      <td>1</td>\n",
              "      <td>1</td>\n",
              "      <td>1</td>\n",
              "      <td>1</td>\n",
              "      <td>0</td>\n",
              "      <td>0</td>\n",
              "      <td>0</td>\n",
              "      <td>1</td>\n",
              "      <td>...</td>\n",
              "      <td>0</td>\n",
              "      <td>0</td>\n",
              "      <td>0</td>\n",
              "      <td>0</td>\n",
              "      <td>0</td>\n",
              "      <td>0</td>\n",
              "      <td>0</td>\n",
              "      <td>0</td>\n",
              "      <td>0</td>\n",
              "      <td>5</td>\n",
              "    </tr>\n",
              "    <tr>\n",
              "      <th>809</th>\n",
              "      <td>0</td>\n",
              "      <td>0</td>\n",
              "      <td>1</td>\n",
              "      <td>1</td>\n",
              "      <td>1</td>\n",
              "      <td>0</td>\n",
              "      <td>0</td>\n",
              "      <td>0</td>\n",
              "      <td>0</td>\n",
              "      <td>0</td>\n",
              "      <td>...</td>\n",
              "      <td>0</td>\n",
              "      <td>0</td>\n",
              "      <td>0</td>\n",
              "      <td>0</td>\n",
              "      <td>0</td>\n",
              "      <td>0</td>\n",
              "      <td>0</td>\n",
              "      <td>0</td>\n",
              "      <td>0</td>\n",
              "      <td>4</td>\n",
              "    </tr>\n",
              "  </tbody>\n",
              "</table>\n",
              "<p>810 rows × 2501 columns</p>\n",
              "</div>"
            ],
            "text/plain": [
              "     Feat_1  Feat_2  Feat_3  Feat_4  Feat_5  Feat_6  Feat_7  Feat_8  Feat_9  \\\n",
              "0         0       0       0       0       0       0       0       0       0   \n",
              "1         0       0       0       0       0       0       0       0       0   \n",
              "2         0       0       0       0       0       0       0       0       0   \n",
              "3         0       0       0       0       0       0       0       0       0   \n",
              "4         0       0       0       0       0       0       0       0       0   \n",
              "..      ...     ...     ...     ...     ...     ...     ...     ...     ...   \n",
              "805       0       0       0       0       0       0       0       0       0   \n",
              "806       0       0       0       1       1       0       1       0       0   \n",
              "807       0       1       1       0       1       0       0       0       0   \n",
              "808       0       0       1       1       1       1       0       0       0   \n",
              "809       0       0       1       1       1       0       0       0       0   \n",
              "\n",
              "     Feat_10  ...  Feat_2492  Feat_2493  Feat_2494  Feat_2495  Feat_2496  \\\n",
              "0          0  ...          0          0          0          0          0   \n",
              "1          0  ...          0          0          0          0          0   \n",
              "2          0  ...          0          0          0          0          0   \n",
              "3          0  ...          0          0          0          0          0   \n",
              "4          0  ...          0          0          0          0          0   \n",
              "..       ...  ...        ...        ...        ...        ...        ...   \n",
              "805        0  ...          0          0          0          0          0   \n",
              "806        0  ...          0          0          0          0          0   \n",
              "807        0  ...          0          0          0          0          0   \n",
              "808        1  ...          0          0          0          0          0   \n",
              "809        0  ...          0          0          0          0          0   \n",
              "\n",
              "     Feat_2497  Feat_2498  Feat_2499  Feat_2500  Label  \n",
              "0            0          0          0          0      4  \n",
              "1            0          0          0          0      0  \n",
              "2            0          0          0          0      7  \n",
              "3            0          0          0          0      2  \n",
              "4            0          0          0          0      4  \n",
              "..         ...        ...        ...        ...    ...  \n",
              "805          0          0          0          0      5  \n",
              "806          0          0          0          0      1  \n",
              "807          0          0          0          0      2  \n",
              "808          0          0          0          0      5  \n",
              "809          0          0          0          0      4  \n",
              "\n",
              "[810 rows x 2501 columns]"
            ]
          },
          "metadata": {
            "tags": []
          },
          "execution_count": 70
        }
      ]
    },
    {
      "cell_type": "markdown",
      "metadata": {
        "id": "PpHSw50Wa9YD"
      },
      "source": [
        "## CSV file making"
      ]
    },
    {
      "cell_type": "code",
      "metadata": {
        "id": "G82YQEKYa9YG"
      },
      "source": [
        "df_train.to_csv('Train.csv')\n",
        "df_test.to_csv('Test.csv')"
      ],
      "execution_count": null,
      "outputs": []
    },
    {
      "cell_type": "markdown",
      "metadata": {
        "id": "W65f42vGa9YO"
      },
      "source": [
        "## Running SVM"
      ]
    },
    {
      "cell_type": "code",
      "metadata": {
        "id": "ZkKBak2Ia9YP"
      },
      "source": [
        "X_train=df_train.drop(['Label'],axis=1).values\n",
        "X_test=df_test.drop(['Label'],axis=1).values\n",
        "Y_train=df_train['Label'].values\n",
        "Y_test=df_test['Label'].values"
      ],
      "execution_count": null,
      "outputs": []
    },
    {
      "cell_type": "code",
      "metadata": {
        "id": "VPiJ-77ra9YV",
        "outputId": "c719a627-daba-4c53-b5ac-ab93d91b5a37"
      },
      "source": [
        "vanilla_model=SVC()\n",
        "vanilla_model.fit(X_train,Y_train) # fitting default SVM for training set"
      ],
      "execution_count": null,
      "outputs": [
        {
          "output_type": "execute_result",
          "data": {
            "text/plain": [
              "SVC()"
            ]
          },
          "metadata": {
            "tags": []
          },
          "execution_count": 73
        }
      ]
    },
    {
      "cell_type": "code",
      "metadata": {
        "id": "naRpRE1ja9Ye"
      },
      "source": [
        "Y_pred=vanilla_model.predict(X_test)\n",
        "acc=accuracy_score(Y_pred,Y_test)"
      ],
      "execution_count": null,
      "outputs": []
    },
    {
      "cell_type": "code",
      "metadata": {
        "id": "HF5AoEaLa9ZM",
        "outputId": "446072ca-a97c-4c12-d091-6f602e06bba8"
      },
      "source": [
        "acc"
      ],
      "execution_count": null,
      "outputs": [
        {
          "output_type": "execute_result",
          "data": {
            "text/plain": [
              "0.991358024691358"
            ]
          },
          "metadata": {
            "tags": []
          },
          "execution_count": 75
        }
      ]
    },
    {
      "cell_type": "code",
      "metadata": {
        "id": "CNhqZ6Bva9Zm",
        "outputId": "3dd8e7a7-22d4-49f4-a44f-11b4508d83a3"
      },
      "source": [
        "print(classification_report(Y_test,Y_pred))"
      ],
      "execution_count": null,
      "outputs": [
        {
          "output_type": "stream",
          "text": [
            "              precision    recall  f1-score   support\n",
            "\n",
            "           0       1.00      0.98      0.99        90\n",
            "           1       0.98      0.99      0.98        90\n",
            "           2       1.00      1.00      1.00        90\n",
            "           3       0.99      1.00      0.99        90\n",
            "           4       0.97      0.98      0.97        90\n",
            "           5       1.00      0.98      0.99        90\n",
            "           6       0.99      1.00      0.99        90\n",
            "           7       1.00      1.00      1.00        90\n",
            "           8       1.00      1.00      1.00        90\n",
            "\n",
            "    accuracy                           0.99       810\n",
            "   macro avg       0.99      0.99      0.99       810\n",
            "weighted avg       0.99      0.99      0.99       810\n",
            "\n"
          ],
          "name": "stdout"
        }
      ]
    },
    {
      "cell_type": "markdown",
      "metadata": {
        "id": "-5fAcjiVa9Z8"
      },
      "source": [
        "## Hyperparamter tuning using grid search"
      ]
    },
    {
      "cell_type": "code",
      "metadata": {
        "id": "prBhMpdra9Z-",
        "outputId": "e806ce7d-c1fb-4ba8-cd24-a63183076d97"
      },
      "source": [
        "from sklearn.model_selection import GridSearchCV\n",
        "param_grid = {'kernel': ['rbf','linear','polynomial']}       # changing all hyperparameters was taking extremely long, so changing one at a time\n",
        "grid = GridSearchCV(SVC(), param_grid, refit = True, verbose = 3) # refit does a train-validation split and again retrains on full train for best output\n",
        "grid.fit(X_train, Y_train)"
      ],
      "execution_count": null,
      "outputs": [
        {
          "output_type": "stream",
          "text": [
            "Fitting 5 folds for each of 3 candidates, totalling 15 fits\n",
            "[CV] kernel=rbf ......................................................\n"
          ],
          "name": "stdout"
        },
        {
          "output_type": "stream",
          "text": [
            "[Parallel(n_jobs=1)]: Using backend SequentialBackend with 1 concurrent workers.\n"
          ],
          "name": "stderr"
        },
        {
          "output_type": "stream",
          "text": [
            "[CV] .......................... kernel=rbf, score=0.966, total=  17.3s\n",
            "[CV] kernel=rbf ......................................................\n"
          ],
          "name": "stdout"
        },
        {
          "output_type": "stream",
          "text": [
            "[Parallel(n_jobs=1)]: Done   1 out of   1 | elapsed:   17.2s remaining:    0.0s\n"
          ],
          "name": "stderr"
        },
        {
          "output_type": "stream",
          "text": [
            "[CV] .......................... kernel=rbf, score=0.995, total=  16.3s\n",
            "[CV] kernel=rbf ......................................................\n"
          ],
          "name": "stdout"
        },
        {
          "output_type": "stream",
          "text": [
            "[Parallel(n_jobs=1)]: Done   2 out of   2 | elapsed:   33.6s remaining:    0.0s\n"
          ],
          "name": "stderr"
        },
        {
          "output_type": "stream",
          "text": [
            "[CV] .......................... kernel=rbf, score=0.992, total=  16.3s\n",
            "[CV] kernel=rbf ......................................................\n",
            "[CV] .......................... kernel=rbf, score=0.979, total=  16.3s\n",
            "[CV] kernel=rbf ......................................................\n",
            "[CV] .......................... kernel=rbf, score=0.976, total=  16.5s\n",
            "[CV] kernel=linear ...................................................\n",
            "[CV] ....................... kernel=linear, score=0.974, total=  11.0s\n",
            "[CV] kernel=linear ...................................................\n",
            "[CV] ....................... kernel=linear, score=0.984, total=  11.0s\n",
            "[CV] kernel=linear ...................................................\n",
            "[CV] ....................... kernel=linear, score=0.992, total=  11.5s\n",
            "[CV] kernel=linear ...................................................\n",
            "[CV] ....................... kernel=linear, score=0.974, total=  11.5s\n",
            "[CV] kernel=linear ...................................................\n",
            "[CV] ....................... kernel=linear, score=0.984, total=  12.1s\n",
            "[CV] kernel=polynomial ...............................................\n"
          ],
          "name": "stdout"
        },
        {
          "output_type": "stream",
          "text": [
            "C:\\Users\\Master\\anaconda3\\envs\\py3env\\lib\\site-packages\\sklearn\\model_selection\\_validation.py:548: FitFailedWarning: Estimator fit failed. The score on this train-test partition for these parameters will be set to nan. Details: \n",
            "Traceback (most recent call last):\n",
            "  File \"C:\\Users\\Master\\anaconda3\\envs\\py3env\\lib\\site-packages\\sklearn\\model_selection\\_validation.py\", line 531, in _fit_and_score\n",
            "    estimator.fit(X_train, y_train, **fit_params)\n",
            "  File \"C:\\Users\\Master\\anaconda3\\envs\\py3env\\lib\\site-packages\\sklearn\\svm\\_base.py\", line 217, in fit\n",
            "    fit(X, y, sample_weight, solver_type, kernel, random_seed=seed)\n",
            "  File \"C:\\Users\\Master\\anaconda3\\envs\\py3env\\lib\\site-packages\\sklearn\\svm\\_base.py\", line 268, in _dense_fit\n",
            "    self._probB, self.fit_status_ = libsvm.fit(\n",
            "  File \"sklearn\\svm\\_libsvm.pyx\", line 175, in sklearn.svm._libsvm.fit\n",
            "ValueError: 'polynomial' is not in list\n",
            "\n",
            "  warnings.warn(\"Estimator fit failed. The score on this train-test\"\n",
            "C:\\Users\\Master\\anaconda3\\envs\\py3env\\lib\\site-packages\\sklearn\\model_selection\\_validation.py:548: FitFailedWarning: Estimator fit failed. The score on this train-test partition for these parameters will be set to nan. Details: \n",
            "Traceback (most recent call last):\n",
            "  File \"C:\\Users\\Master\\anaconda3\\envs\\py3env\\lib\\site-packages\\sklearn\\model_selection\\_validation.py\", line 531, in _fit_and_score\n",
            "    estimator.fit(X_train, y_train, **fit_params)\n",
            "  File \"C:\\Users\\Master\\anaconda3\\envs\\py3env\\lib\\site-packages\\sklearn\\svm\\_base.py\", line 217, in fit\n",
            "    fit(X, y, sample_weight, solver_type, kernel, random_seed=seed)\n",
            "  File \"C:\\Users\\Master\\anaconda3\\envs\\py3env\\lib\\site-packages\\sklearn\\svm\\_base.py\", line 268, in _dense_fit\n",
            "    self._probB, self.fit_status_ = libsvm.fit(\n",
            "  File \"sklearn\\svm\\_libsvm.pyx\", line 175, in sklearn.svm._libsvm.fit\n",
            "ValueError: 'polynomial' is not in list\n",
            "\n",
            "  warnings.warn(\"Estimator fit failed. The score on this train-test\"\n"
          ],
          "name": "stderr"
        },
        {
          "output_type": "stream",
          "text": [
            "[CV] ..................... kernel=polynomial, score=nan, total=   0.2s\n",
            "[CV] kernel=polynomial ...............................................\n",
            "[CV] ..................... kernel=polynomial, score=nan, total=   0.1s\n",
            "[CV] kernel=polynomial ...............................................\n"
          ],
          "name": "stdout"
        },
        {
          "output_type": "stream",
          "text": [
            "C:\\Users\\Master\\anaconda3\\envs\\py3env\\lib\\site-packages\\sklearn\\model_selection\\_validation.py:548: FitFailedWarning: Estimator fit failed. The score on this train-test partition for these parameters will be set to nan. Details: \n",
            "Traceback (most recent call last):\n",
            "  File \"C:\\Users\\Master\\anaconda3\\envs\\py3env\\lib\\site-packages\\sklearn\\model_selection\\_validation.py\", line 531, in _fit_and_score\n",
            "    estimator.fit(X_train, y_train, **fit_params)\n",
            "  File \"C:\\Users\\Master\\anaconda3\\envs\\py3env\\lib\\site-packages\\sklearn\\svm\\_base.py\", line 217, in fit\n",
            "    fit(X, y, sample_weight, solver_type, kernel, random_seed=seed)\n",
            "  File \"C:\\Users\\Master\\anaconda3\\envs\\py3env\\lib\\site-packages\\sklearn\\svm\\_base.py\", line 268, in _dense_fit\n",
            "    self._probB, self.fit_status_ = libsvm.fit(\n",
            "  File \"sklearn\\svm\\_libsvm.pyx\", line 175, in sklearn.svm._libsvm.fit\n",
            "ValueError: 'polynomial' is not in list\n",
            "\n",
            "  warnings.warn(\"Estimator fit failed. The score on this train-test\"\n",
            "C:\\Users\\Master\\anaconda3\\envs\\py3env\\lib\\site-packages\\sklearn\\model_selection\\_validation.py:548: FitFailedWarning: Estimator fit failed. The score on this train-test partition for these parameters will be set to nan. Details: \n",
            "Traceback (most recent call last):\n",
            "  File \"C:\\Users\\Master\\anaconda3\\envs\\py3env\\lib\\site-packages\\sklearn\\model_selection\\_validation.py\", line 531, in _fit_and_score\n",
            "    estimator.fit(X_train, y_train, **fit_params)\n",
            "  File \"C:\\Users\\Master\\anaconda3\\envs\\py3env\\lib\\site-packages\\sklearn\\svm\\_base.py\", line 217, in fit\n",
            "    fit(X, y, sample_weight, solver_type, kernel, random_seed=seed)\n",
            "  File \"C:\\Users\\Master\\anaconda3\\envs\\py3env\\lib\\site-packages\\sklearn\\svm\\_base.py\", line 268, in _dense_fit\n",
            "    self._probB, self.fit_status_ = libsvm.fit(\n",
            "  File \"sklearn\\svm\\_libsvm.pyx\", line 175, in sklearn.svm._libsvm.fit\n",
            "ValueError: 'polynomial' is not in list\n",
            "\n",
            "  warnings.warn(\"Estimator fit failed. The score on this train-test\"\n"
          ],
          "name": "stderr"
        },
        {
          "output_type": "stream",
          "text": [
            "[CV] ..................... kernel=polynomial, score=nan, total=   0.1s\n",
            "[CV] kernel=polynomial ...............................................\n",
            "[CV] ..................... kernel=polynomial, score=nan, total=   0.1s\n",
            "[CV] kernel=polynomial ...............................................\n"
          ],
          "name": "stdout"
        },
        {
          "output_type": "stream",
          "text": [
            "C:\\Users\\Master\\anaconda3\\envs\\py3env\\lib\\site-packages\\sklearn\\model_selection\\_validation.py:548: FitFailedWarning: Estimator fit failed. The score on this train-test partition for these parameters will be set to nan. Details: \n",
            "Traceback (most recent call last):\n",
            "  File \"C:\\Users\\Master\\anaconda3\\envs\\py3env\\lib\\site-packages\\sklearn\\model_selection\\_validation.py\", line 531, in _fit_and_score\n",
            "    estimator.fit(X_train, y_train, **fit_params)\n",
            "  File \"C:\\Users\\Master\\anaconda3\\envs\\py3env\\lib\\site-packages\\sklearn\\svm\\_base.py\", line 217, in fit\n",
            "    fit(X, y, sample_weight, solver_type, kernel, random_seed=seed)\n",
            "  File \"C:\\Users\\Master\\anaconda3\\envs\\py3env\\lib\\site-packages\\sklearn\\svm\\_base.py\", line 268, in _dense_fit\n",
            "    self._probB, self.fit_status_ = libsvm.fit(\n",
            "  File \"sklearn\\svm\\_libsvm.pyx\", line 175, in sklearn.svm._libsvm.fit\n",
            "ValueError: 'polynomial' is not in list\n",
            "\n",
            "  warnings.warn(\"Estimator fit failed. The score on this train-test\"\n",
            "[Parallel(n_jobs=1)]: Done  15 out of  15 | elapsed:  2.3min finished\n"
          ],
          "name": "stderr"
        },
        {
          "output_type": "stream",
          "text": [
            "[CV] ..................... kernel=polynomial, score=nan, total=   0.1s\n"
          ],
          "name": "stdout"
        },
        {
          "output_type": "execute_result",
          "data": {
            "text/plain": [
              "GridSearchCV(estimator=SVC(),\n",
              "             param_grid={'kernel': ['rbf', 'linear', 'polynomial']}, verbose=3)"
            ]
          },
          "metadata": {
            "tags": []
          },
          "execution_count": 77
        }
      ]
    },
    {
      "cell_type": "code",
      "metadata": {
        "id": "XJbmlYfZa9aG",
        "outputId": "5802e048-6008-4927-fc49-5d913c3e29d9"
      },
      "source": [
        "print(grid.best_params_)"
      ],
      "execution_count": null,
      "outputs": [
        {
          "output_type": "stream",
          "text": [
            "{'kernel': 'rbf'}\n"
          ],
          "name": "stdout"
        }
      ]
    },
    {
      "cell_type": "code",
      "metadata": {
        "id": "OJdmHGwwa9aO",
        "outputId": "7d2ac71b-4d42-433e-da58-94996238bd51"
      },
      "source": [
        "param_grid = {'kernel': ['rbf'],'C': [0.1, 1, 10, 100, 1000]}       # changing all hyperparameters was taking extremely long, so changing one at a time\n",
        "grid = GridSearchCV(SVC(), param_grid, refit = True, verbose = 3) # refit does a train-validation split and again retrains on full train for best output\n",
        "grid.fit(X_train, Y_train)"
      ],
      "execution_count": null,
      "outputs": [
        {
          "output_type": "stream",
          "text": [
            "Fitting 5 folds for each of 5 candidates, totalling 25 fits\n",
            "[CV] C=0.1, kernel=rbf ...............................................\n"
          ],
          "name": "stdout"
        },
        {
          "output_type": "stream",
          "text": [
            "[Parallel(n_jobs=1)]: Using backend SequentialBackend with 1 concurrent workers.\n"
          ],
          "name": "stderr"
        },
        {
          "output_type": "stream",
          "text": [
            "[CV] ................... C=0.1, kernel=rbf, score=0.757, total=  18.3s\n",
            "[CV] C=0.1, kernel=rbf ...............................................\n"
          ],
          "name": "stdout"
        },
        {
          "output_type": "stream",
          "text": [
            "[Parallel(n_jobs=1)]: Done   1 out of   1 | elapsed:   18.2s remaining:    0.0s\n"
          ],
          "name": "stderr"
        },
        {
          "output_type": "stream",
          "text": [
            "[CV] ................... C=0.1, kernel=rbf, score=0.788, total=  20.5s\n",
            "[CV] C=0.1, kernel=rbf ...............................................\n"
          ],
          "name": "stdout"
        },
        {
          "output_type": "stream",
          "text": [
            "[Parallel(n_jobs=1)]: Done   2 out of   2 | elapsed:   38.7s remaining:    0.0s\n"
          ],
          "name": "stderr"
        },
        {
          "output_type": "stream",
          "text": [
            "[CV] ................... C=0.1, kernel=rbf, score=0.759, total=  22.2s\n",
            "[CV] C=0.1, kernel=rbf ...............................................\n",
            "[CV] ................... C=0.1, kernel=rbf, score=0.757, total=  23.1s\n",
            "[CV] C=0.1, kernel=rbf ...............................................\n",
            "[CV] ................... C=0.1, kernel=rbf, score=0.786, total=  23.1s\n",
            "[CV] C=1, kernel=rbf .................................................\n",
            "[CV] ..................... C=1, kernel=rbf, score=0.966, total=  22.3s\n",
            "[CV] C=1, kernel=rbf .................................................\n",
            "[CV] ..................... C=1, kernel=rbf, score=0.995, total=  22.6s\n",
            "[CV] C=1, kernel=rbf .................................................\n",
            "[CV] ..................... C=1, kernel=rbf, score=0.992, total=  22.4s\n",
            "[CV] C=1, kernel=rbf .................................................\n",
            "[CV] ..................... C=1, kernel=rbf, score=0.979, total=  22.4s\n",
            "[CV] C=1, kernel=rbf .................................................\n",
            "[CV] ..................... C=1, kernel=rbf, score=0.976, total=  22.7s\n",
            "[CV] C=10, kernel=rbf ................................................\n",
            "[CV] .................... C=10, kernel=rbf, score=0.979, total=  22.9s\n",
            "[CV] C=10, kernel=rbf ................................................\n",
            "[CV] .................... C=10, kernel=rbf, score=0.995, total=  23.1s\n",
            "[CV] C=10, kernel=rbf ................................................\n",
            "[CV] .................... C=10, kernel=rbf, score=0.995, total=  22.9s\n",
            "[CV] C=10, kernel=rbf ................................................\n",
            "[CV] .................... C=10, kernel=rbf, score=0.987, total=  21.0s\n",
            "[CV] C=10, kernel=rbf ................................................\n",
            "[CV] .................... C=10, kernel=rbf, score=0.981, total=  21.6s\n",
            "[CV] C=100, kernel=rbf ...............................................\n",
            "[CV] ................... C=100, kernel=rbf, score=0.979, total=  22.5s\n",
            "[CV] C=100, kernel=rbf ...............................................\n",
            "[CV] ................... C=100, kernel=rbf, score=0.995, total=  22.5s\n",
            "[CV] C=100, kernel=rbf ...............................................\n",
            "[CV] ................... C=100, kernel=rbf, score=0.995, total=  22.5s\n",
            "[CV] C=100, kernel=rbf ...............................................\n",
            "[CV] ................... C=100, kernel=rbf, score=0.987, total=  22.8s\n",
            "[CV] C=100, kernel=rbf ...............................................\n",
            "[CV] ................... C=100, kernel=rbf, score=0.981, total=  22.8s\n",
            "[CV] C=1000, kernel=rbf ..............................................\n",
            "[CV] .................. C=1000, kernel=rbf, score=0.979, total=  24.2s\n",
            "[CV] C=1000, kernel=rbf ..............................................\n",
            "[CV] .................. C=1000, kernel=rbf, score=0.995, total=  22.8s\n",
            "[CV] C=1000, kernel=rbf ..............................................\n",
            "[CV] .................. C=1000, kernel=rbf, score=0.995, total=  23.0s\n",
            "[CV] C=1000, kernel=rbf ..............................................\n",
            "[CV] .................. C=1000, kernel=rbf, score=0.987, total=  23.2s\n",
            "[CV] C=1000, kernel=rbf ..............................................\n",
            "[CV] .................. C=1000, kernel=rbf, score=0.981, total=  23.2s\n"
          ],
          "name": "stdout"
        },
        {
          "output_type": "stream",
          "text": [
            "[Parallel(n_jobs=1)]: Done  25 out of  25 | elapsed:  9.3min finished\n"
          ],
          "name": "stderr"
        },
        {
          "output_type": "execute_result",
          "data": {
            "text/plain": [
              "GridSearchCV(estimator=SVC(),\n",
              "             param_grid={'C': [0.1, 1, 10, 100, 1000], 'kernel': ['rbf']},\n",
              "             verbose=3)"
            ]
          },
          "metadata": {
            "tags": []
          },
          "execution_count": 79
        }
      ]
    },
    {
      "cell_type": "code",
      "metadata": {
        "id": "fFCrE4qda9aV",
        "outputId": "eee706f8-66d8-445f-e7ff-ad7fef4a1dd7"
      },
      "source": [
        "print(grid.best_params_)"
      ],
      "execution_count": null,
      "outputs": [
        {
          "output_type": "stream",
          "text": [
            "{'C': 10, 'kernel': 'rbf'}\n"
          ],
          "name": "stdout"
        }
      ]
    },
    {
      "cell_type": "code",
      "metadata": {
        "id": "y449dPpOa9af",
        "outputId": "a71562fe-27ae-498c-d3e8-9af13f969792"
      },
      "source": [
        "param_grid = {'kernel': ['rbf'],'C': [10],'gamma': [1, 0.1, 0.01, 0.001, 0.0001]}       # changing all hyperparameters was taking extremely long, so changing one at a time\n",
        "grid = GridSearchCV(SVC(), param_grid, refit = True, verbose = 3) # refit does a train-validation split and again retrains on full train for best output\n",
        "grid.fit(X_train, Y_train)"
      ],
      "execution_count": null,
      "outputs": [
        {
          "output_type": "stream",
          "text": [
            "Fitting 5 folds for each of 5 candidates, totalling 25 fits\n",
            "[CV] C=10, gamma=1, kernel=rbf .......................................\n"
          ],
          "name": "stdout"
        },
        {
          "output_type": "stream",
          "text": [
            "[Parallel(n_jobs=1)]: Using backend SequentialBackend with 1 concurrent workers.\n"
          ],
          "name": "stderr"
        },
        {
          "output_type": "stream",
          "text": [
            "[CV] ........... C=10, gamma=1, kernel=rbf, score=0.135, total=  17.4s\n",
            "[CV] C=10, gamma=1, kernel=rbf .......................................\n"
          ],
          "name": "stdout"
        },
        {
          "output_type": "stream",
          "text": [
            "[Parallel(n_jobs=1)]: Done   1 out of   1 | elapsed:   17.3s remaining:    0.0s\n"
          ],
          "name": "stderr"
        },
        {
          "output_type": "stream",
          "text": [
            "[CV] ........... C=10, gamma=1, kernel=rbf, score=0.127, total=  17.1s\n",
            "[CV] C=10, gamma=1, kernel=rbf .......................................\n"
          ],
          "name": "stdout"
        },
        {
          "output_type": "stream",
          "text": [
            "[Parallel(n_jobs=1)]: Done   2 out of   2 | elapsed:   34.3s remaining:    0.0s\n"
          ],
          "name": "stderr"
        },
        {
          "output_type": "stream",
          "text": [
            "[CV] ........... C=10, gamma=1, kernel=rbf, score=0.119, total=  17.1s\n",
            "[CV] C=10, gamma=1, kernel=rbf .......................................\n",
            "[CV] ........... C=10, gamma=1, kernel=rbf, score=0.130, total=  17.1s\n",
            "[CV] C=10, gamma=1, kernel=rbf .......................................\n",
            "[CV] ........... C=10, gamma=1, kernel=rbf, score=0.130, total=  16.9s\n",
            "[CV] C=10, gamma=0.1, kernel=rbf .....................................\n",
            "[CV] ......... C=10, gamma=0.1, kernel=rbf, score=0.349, total=  16.8s\n",
            "[CV] C=10, gamma=0.1, kernel=rbf .....................................\n",
            "[CV] ......... C=10, gamma=0.1, kernel=rbf, score=0.370, total=  16.9s\n",
            "[CV] C=10, gamma=0.1, kernel=rbf .....................................\n",
            "[CV] ......... C=10, gamma=0.1, kernel=rbf, score=0.310, total=  16.9s\n",
            "[CV] C=10, gamma=0.1, kernel=rbf .....................................\n",
            "[CV] ......... C=10, gamma=0.1, kernel=rbf, score=0.339, total=  17.2s\n",
            "[CV] C=10, gamma=0.1, kernel=rbf .....................................\n",
            "[CV] ......... C=10, gamma=0.1, kernel=rbf, score=0.344, total=  22.9s\n",
            "[CV] C=10, gamma=0.01, kernel=rbf ....................................\n",
            "[CV] ........ C=10, gamma=0.01, kernel=rbf, score=0.968, total=  23.2s\n",
            "[CV] C=10, gamma=0.01, kernel=rbf ....................................\n",
            "[CV] ........ C=10, gamma=0.01, kernel=rbf, score=0.995, total=  23.0s\n",
            "[CV] C=10, gamma=0.01, kernel=rbf ....................................\n",
            "[CV] ........ C=10, gamma=0.01, kernel=rbf, score=0.992, total=  23.1s\n",
            "[CV] C=10, gamma=0.01, kernel=rbf ....................................\n",
            "[CV] ........ C=10, gamma=0.01, kernel=rbf, score=0.984, total=  23.9s\n",
            "[CV] C=10, gamma=0.01, kernel=rbf ....................................\n",
            "[CV] ........ C=10, gamma=0.01, kernel=rbf, score=0.979, total=  23.8s\n",
            "[CV] C=10, gamma=0.001, kernel=rbf ...................................\n",
            "[CV] ....... C=10, gamma=0.001, kernel=rbf, score=0.971, total=  19.8s\n",
            "[CV] C=10, gamma=0.001, kernel=rbf ...................................\n",
            "[CV] ....... C=10, gamma=0.001, kernel=rbf, score=0.987, total=  15.7s\n",
            "[CV] C=10, gamma=0.001, kernel=rbf ...................................\n",
            "[CV] ....... C=10, gamma=0.001, kernel=rbf, score=0.992, total=  20.7s\n",
            "[CV] C=10, gamma=0.001, kernel=rbf ...................................\n",
            "[CV] ....... C=10, gamma=0.001, kernel=rbf, score=0.979, total=  19.5s\n",
            "[CV] C=10, gamma=0.001, kernel=rbf ...................................\n",
            "[CV] ....... C=10, gamma=0.001, kernel=rbf, score=0.984, total=  19.5s\n",
            "[CV] C=10, gamma=0.0001, kernel=rbf ..................................\n",
            "[CV] ...... C=10, gamma=0.0001, kernel=rbf, score=0.921, total=  17.4s\n",
            "[CV] C=10, gamma=0.0001, kernel=rbf ..................................\n",
            "[CV] ...... C=10, gamma=0.0001, kernel=rbf, score=0.929, total=  16.0s\n",
            "[CV] C=10, gamma=0.0001, kernel=rbf ..................................\n",
            "[CV] ...... C=10, gamma=0.0001, kernel=rbf, score=0.923, total=  16.1s\n",
            "[CV] C=10, gamma=0.0001, kernel=rbf ..................................\n",
            "[CV] ...... C=10, gamma=0.0001, kernel=rbf, score=0.913, total=  15.7s\n",
            "[CV] C=10, gamma=0.0001, kernel=rbf ..................................\n",
            "[CV] ...... C=10, gamma=0.0001, kernel=rbf, score=0.915, total=  16.0s\n"
          ],
          "name": "stdout"
        },
        {
          "output_type": "stream",
          "text": [
            "[Parallel(n_jobs=1)]: Done  25 out of  25 | elapsed:  7.8min finished\n"
          ],
          "name": "stderr"
        },
        {
          "output_type": "execute_result",
          "data": {
            "text/plain": [
              "GridSearchCV(estimator=SVC(),\n",
              "             param_grid={'C': [10], 'gamma': [1, 0.1, 0.01, 0.001, 0.0001],\n",
              "                         'kernel': ['rbf']},\n",
              "             verbose=3)"
            ]
          },
          "metadata": {
            "tags": []
          },
          "execution_count": 82
        }
      ]
    },
    {
      "cell_type": "code",
      "metadata": {
        "id": "SGkiSkLka9al",
        "outputId": "f8f24860-51c8-48cb-e762-fc17248e7f1a"
      },
      "source": [
        "print(grid.best_params_)"
      ],
      "execution_count": null,
      "outputs": [
        {
          "output_type": "stream",
          "text": [
            "{'C': 10, 'gamma': 0.01, 'kernel': 'rbf'}\n"
          ],
          "name": "stdout"
        }
      ]
    },
    {
      "cell_type": "code",
      "metadata": {
        "id": "MkAj5BrMa9ar"
      },
      "source": [
        "grid_Y_test=grid.predict(X_test)"
      ],
      "execution_count": null,
      "outputs": []
    },
    {
      "cell_type": "code",
      "metadata": {
        "id": "ZlwlABLBa9a0",
        "outputId": "8335dad7-43b5-44ac-ff75-4dd1b6487df8"
      },
      "source": [
        "print(classification_report(Y_test,grid_Y_test))"
      ],
      "execution_count": null,
      "outputs": [
        {
          "output_type": "stream",
          "text": [
            "              precision    recall  f1-score   support\n",
            "\n",
            "           0       1.00      0.98      0.99        90\n",
            "           1       1.00      1.00      1.00        90\n",
            "           2       1.00      1.00      1.00        90\n",
            "           3       1.00      1.00      1.00        90\n",
            "           4       0.98      1.00      0.99        90\n",
            "           5       1.00      0.99      0.99        90\n",
            "           6       0.99      1.00      0.99        90\n",
            "           7       1.00      1.00      1.00        90\n",
            "           8       1.00      1.00      1.00        90\n",
            "\n",
            "    accuracy                           1.00       810\n",
            "   macro avg       1.00      1.00      1.00       810\n",
            "weighted avg       1.00      1.00      1.00       810\n",
            "\n"
          ],
          "name": "stdout"
        }
      ]
    },
    {
      "cell_type": "code",
      "metadata": {
        "id": "oYuy15hea9a7",
        "outputId": "2ad77eb1-8f9f-4958-cf0e-b7888e245816"
      },
      "source": [
        "print(accuracy_score(Y_test,grid_Y_test))"
      ],
      "execution_count": null,
      "outputs": [
        {
          "output_type": "stream",
          "text": [
            "0.9962962962962963\n"
          ],
          "name": "stdout"
        }
      ]
    }
  ]
}