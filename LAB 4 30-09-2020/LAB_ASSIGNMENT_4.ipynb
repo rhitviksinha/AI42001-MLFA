{
  "nbformat": 4,
  "nbformat_minor": 0,
  "metadata": {
    "colab": {
      "name": "LAB_ASSIGNMENT_4.ipynb",
      "provenance": [],
      "collapsed_sections": []
    },
    "kernelspec": {
      "name": "python3",
      "display_name": "Python 3"
    }
  },
  "cells": [
    {
      "cell_type": "markdown",
      "metadata": {
        "id": "hMHfXTNwvOkX"
      },
      "source": [
        "# Assignment 4\n",
        "\n",
        "*Submission From:*\n",
        "\n",
        "*18EE10043 : Rhitvik Sinha*  \n",
        "*18EE10062 : Akshat Kumar Gupta*  \n",
        "*18EE30021 : Pratyush Jaiswal*  \n",
        "*18EE30029 : Nuruddin Jiruwala*\n",
        "\n",
        "*Performed in Google Colab*"
      ]
    },
    {
      "cell_type": "code",
      "metadata": {
        "id": "xoJEXg5i4oeC",
        "outputId": "438a3754-53c3-4e6c-f89a-731c05e4ffe4",
        "colab": {
          "base_uri": "https://localhost:8080/",
          "height": 35
        }
      },
      "source": [
        "import numpy as np\n",
        "import pandas as pd\n",
        "from google.colab import drive\n",
        "drive.mount('/content/drive')"
      ],
      "execution_count": null,
      "outputs": [
        {
          "output_type": "stream",
          "text": [
            "Mounted at /content/drive\n"
          ],
          "name": "stdout"
        }
      ]
    },
    {
      "cell_type": "markdown",
      "metadata": {
        "id": "PYOCLccwulrX"
      },
      "source": [
        "## Part 1\n",
        "\n",
        "*Read the .mat files in Python and access the variables.*"
      ]
    },
    {
      "cell_type": "code",
      "metadata": {
        "id": "3t4gmqWS4v50",
        "outputId": "07ec8f27-7c92-4e4f-cf6b-8ce8bbf8b8dc",
        "colab": {
          "base_uri": "https://localhost:8080/",
          "height": 70
        }
      },
      "source": [
        "import scipy.io\n",
        "from sklearn.linear_model import LinearRegression\n",
        "from sklearn.linear_model import Lasso\n",
        "\n",
        "mat=scipy.io.loadmat('/content/drive/My Drive/ML_datasets/2010rainfall.mat')\n",
        "mat1=scipy.io.loadmat('/content/drive/My Drive/ML_datasets/2011rainfall.mat')\n",
        "\n",
        "print(mat.keys())\n",
        "print(mat1.keys())\n",
        "\n",
        "data = mat['XR1']\n",
        "data1 = mat1['XR']\n",
        "\n",
        "np.shape(data1)"
      ],
      "execution_count": null,
      "outputs": [
        {
          "output_type": "stream",
          "text": [
            "dict_keys(['__header__', '__version__', '__globals__', 'XR1', 'ZR1'])\n",
            "dict_keys(['__header__', '__version__', '__globals__', 'XR', 'ZR'])\n"
          ],
          "name": "stdout"
        },
        {
          "output_type": "execute_result",
          "data": {
            "text/plain": [
              "(357, 122)"
            ]
          },
          "metadata": {
            "tags": []
          },
          "execution_count": 185
        }
      ]
    },
    {
      "cell_type": "code",
      "metadata": {
        "id": "eQDDyOac6X5a",
        "outputId": "57fcf638-2699-4968-8a50-b6ad4e17ed31",
        "colab": {
          "base_uri": "https://localhost:8080/",
          "height": 252
        }
      },
      "source": [
        "ind = list(range(1, 358))\n",
        "cols = list(range(1, 123))\n",
        "\n",
        "Train_main_df = pd.DataFrame(data, index = ind, columns = cols)   # 2010 training data\n",
        "Test_main_df1 = pd.DataFrame(data1, index = ind, columns = cols)    # 2011 testing data\n",
        "\n",
        "Train_main_df.tail()"
      ],
      "execution_count": null,
      "outputs": [
        {
          "output_type": "execute_result",
          "data": {
            "text/html": [
              "<div>\n",
              "<style scoped>\n",
              "    .dataframe tbody tr th:only-of-type {\n",
              "        vertical-align: middle;\n",
              "    }\n",
              "\n",
              "    .dataframe tbody tr th {\n",
              "        vertical-align: top;\n",
              "    }\n",
              "\n",
              "    .dataframe thead th {\n",
              "        text-align: right;\n",
              "    }\n",
              "</style>\n",
              "<table border=\"1\" class=\"dataframe\">\n",
              "  <thead>\n",
              "    <tr style=\"text-align: right;\">\n",
              "      <th></th>\n",
              "      <th>1</th>\n",
              "      <th>2</th>\n",
              "      <th>3</th>\n",
              "      <th>4</th>\n",
              "      <th>5</th>\n",
              "      <th>6</th>\n",
              "      <th>7</th>\n",
              "      <th>8</th>\n",
              "      <th>9</th>\n",
              "      <th>10</th>\n",
              "      <th>11</th>\n",
              "      <th>12</th>\n",
              "      <th>13</th>\n",
              "      <th>14</th>\n",
              "      <th>15</th>\n",
              "      <th>16</th>\n",
              "      <th>17</th>\n",
              "      <th>18</th>\n",
              "      <th>19</th>\n",
              "      <th>20</th>\n",
              "      <th>21</th>\n",
              "      <th>22</th>\n",
              "      <th>23</th>\n",
              "      <th>24</th>\n",
              "      <th>25</th>\n",
              "      <th>26</th>\n",
              "      <th>27</th>\n",
              "      <th>28</th>\n",
              "      <th>29</th>\n",
              "      <th>30</th>\n",
              "      <th>31</th>\n",
              "      <th>32</th>\n",
              "      <th>33</th>\n",
              "      <th>34</th>\n",
              "      <th>35</th>\n",
              "      <th>36</th>\n",
              "      <th>37</th>\n",
              "      <th>38</th>\n",
              "      <th>39</th>\n",
              "      <th>40</th>\n",
              "      <th>...</th>\n",
              "      <th>83</th>\n",
              "      <th>84</th>\n",
              "      <th>85</th>\n",
              "      <th>86</th>\n",
              "      <th>87</th>\n",
              "      <th>88</th>\n",
              "      <th>89</th>\n",
              "      <th>90</th>\n",
              "      <th>91</th>\n",
              "      <th>92</th>\n",
              "      <th>93</th>\n",
              "      <th>94</th>\n",
              "      <th>95</th>\n",
              "      <th>96</th>\n",
              "      <th>97</th>\n",
              "      <th>98</th>\n",
              "      <th>99</th>\n",
              "      <th>100</th>\n",
              "      <th>101</th>\n",
              "      <th>102</th>\n",
              "      <th>103</th>\n",
              "      <th>104</th>\n",
              "      <th>105</th>\n",
              "      <th>106</th>\n",
              "      <th>107</th>\n",
              "      <th>108</th>\n",
              "      <th>109</th>\n",
              "      <th>110</th>\n",
              "      <th>111</th>\n",
              "      <th>112</th>\n",
              "      <th>113</th>\n",
              "      <th>114</th>\n",
              "      <th>115</th>\n",
              "      <th>116</th>\n",
              "      <th>117</th>\n",
              "      <th>118</th>\n",
              "      <th>119</th>\n",
              "      <th>120</th>\n",
              "      <th>121</th>\n",
              "      <th>122</th>\n",
              "    </tr>\n",
              "  </thead>\n",
              "  <tbody>\n",
              "    <tr>\n",
              "      <th>353</th>\n",
              "      <td>15.400000</td>\n",
              "      <td>22.299999</td>\n",
              "      <td>3.6</td>\n",
              "      <td>18.700003</td>\n",
              "      <td>5.200000</td>\n",
              "      <td>34.400005</td>\n",
              "      <td>11.800001</td>\n",
              "      <td>9.9</td>\n",
              "      <td>10.400001</td>\n",
              "      <td>33.800003</td>\n",
              "      <td>18.400002</td>\n",
              "      <td>2.600000</td>\n",
              "      <td>14.600001</td>\n",
              "      <td>9.9</td>\n",
              "      <td>2.7</td>\n",
              "      <td>0.0</td>\n",
              "      <td>2.000000</td>\n",
              "      <td>10.2</td>\n",
              "      <td>12.400001</td>\n",
              "      <td>21.700001</td>\n",
              "      <td>4.400000</td>\n",
              "      <td>13.200001</td>\n",
              "      <td>3.800000</td>\n",
              "      <td>0.0</td>\n",
              "      <td>1.2</td>\n",
              "      <td>22.700003</td>\n",
              "      <td>21.400000</td>\n",
              "      <td>14.200001</td>\n",
              "      <td>0.3</td>\n",
              "      <td>4.000000</td>\n",
              "      <td>26.600002</td>\n",
              "      <td>0.400000</td>\n",
              "      <td>0.0</td>\n",
              "      <td>3.200000</td>\n",
              "      <td>3.200000</td>\n",
              "      <td>6.6</td>\n",
              "      <td>15.200001</td>\n",
              "      <td>24.100000</td>\n",
              "      <td>25.600000</td>\n",
              "      <td>25.200001</td>\n",
              "      <td>...</td>\n",
              "      <td>21.0</td>\n",
              "      <td>6.200000</td>\n",
              "      <td>0.0</td>\n",
              "      <td>0.0</td>\n",
              "      <td>0.0</td>\n",
              "      <td>95.800011</td>\n",
              "      <td>20.500000</td>\n",
              "      <td>1.300000</td>\n",
              "      <td>0.0</td>\n",
              "      <td>13.200001</td>\n",
              "      <td>7.600000</td>\n",
              "      <td>10.5</td>\n",
              "      <td>0.0</td>\n",
              "      <td>2.600000</td>\n",
              "      <td>52.100002</td>\n",
              "      <td>46.000004</td>\n",
              "      <td>35.799999</td>\n",
              "      <td>3.200000</td>\n",
              "      <td>96.400002</td>\n",
              "      <td>77.100006</td>\n",
              "      <td>11.4</td>\n",
              "      <td>0.200000</td>\n",
              "      <td>0.0</td>\n",
              "      <td>10.5</td>\n",
              "      <td>21.100000</td>\n",
              "      <td>83.300003</td>\n",
              "      <td>6.100000</td>\n",
              "      <td>0.0</td>\n",
              "      <td>19.799999</td>\n",
              "      <td>8.000000</td>\n",
              "      <td>0.200000</td>\n",
              "      <td>0.0</td>\n",
              "      <td>0.1</td>\n",
              "      <td>52.299999</td>\n",
              "      <td>0.0</td>\n",
              "      <td>44.599998</td>\n",
              "      <td>28.000002</td>\n",
              "      <td>1.700000</td>\n",
              "      <td>1.700000</td>\n",
              "      <td>0.0</td>\n",
              "    </tr>\n",
              "    <tr>\n",
              "      <th>354</th>\n",
              "      <td>10.266666</td>\n",
              "      <td>14.866666</td>\n",
              "      <td>2.4</td>\n",
              "      <td>12.466667</td>\n",
              "      <td>3.466666</td>\n",
              "      <td>22.933334</td>\n",
              "      <td>7.866667</td>\n",
              "      <td>6.6</td>\n",
              "      <td>6.933333</td>\n",
              "      <td>22.533335</td>\n",
              "      <td>12.266667</td>\n",
              "      <td>1.733333</td>\n",
              "      <td>9.733335</td>\n",
              "      <td>6.6</td>\n",
              "      <td>1.8</td>\n",
              "      <td>0.0</td>\n",
              "      <td>1.333333</td>\n",
              "      <td>6.8</td>\n",
              "      <td>8.266666</td>\n",
              "      <td>14.466667</td>\n",
              "      <td>2.933333</td>\n",
              "      <td>8.800000</td>\n",
              "      <td>2.533334</td>\n",
              "      <td>0.0</td>\n",
              "      <td>0.8</td>\n",
              "      <td>15.133334</td>\n",
              "      <td>14.266666</td>\n",
              "      <td>9.466667</td>\n",
              "      <td>0.2</td>\n",
              "      <td>2.666667</td>\n",
              "      <td>17.733335</td>\n",
              "      <td>0.266667</td>\n",
              "      <td>0.0</td>\n",
              "      <td>2.133333</td>\n",
              "      <td>2.133333</td>\n",
              "      <td>4.4</td>\n",
              "      <td>10.133334</td>\n",
              "      <td>16.066668</td>\n",
              "      <td>17.066668</td>\n",
              "      <td>16.800001</td>\n",
              "      <td>...</td>\n",
              "      <td>14.0</td>\n",
              "      <td>4.133333</td>\n",
              "      <td>0.0</td>\n",
              "      <td>0.0</td>\n",
              "      <td>0.0</td>\n",
              "      <td>63.866669</td>\n",
              "      <td>13.666667</td>\n",
              "      <td>0.866667</td>\n",
              "      <td>0.0</td>\n",
              "      <td>8.800000</td>\n",
              "      <td>5.066667</td>\n",
              "      <td>7.0</td>\n",
              "      <td>0.0</td>\n",
              "      <td>1.733333</td>\n",
              "      <td>34.733334</td>\n",
              "      <td>30.666666</td>\n",
              "      <td>23.866667</td>\n",
              "      <td>2.133333</td>\n",
              "      <td>64.266670</td>\n",
              "      <td>51.400005</td>\n",
              "      <td>7.6</td>\n",
              "      <td>0.133333</td>\n",
              "      <td>0.0</td>\n",
              "      <td>7.0</td>\n",
              "      <td>14.066667</td>\n",
              "      <td>55.533337</td>\n",
              "      <td>4.066667</td>\n",
              "      <td>0.0</td>\n",
              "      <td>13.200000</td>\n",
              "      <td>5.333333</td>\n",
              "      <td>0.133333</td>\n",
              "      <td>0.0</td>\n",
              "      <td>0.0</td>\n",
              "      <td>34.866665</td>\n",
              "      <td>0.0</td>\n",
              "      <td>29.733332</td>\n",
              "      <td>18.666666</td>\n",
              "      <td>1.133333</td>\n",
              "      <td>1.133333</td>\n",
              "      <td>0.0</td>\n",
              "    </tr>\n",
              "    <tr>\n",
              "      <th>355</th>\n",
              "      <td>0.000000</td>\n",
              "      <td>0.000000</td>\n",
              "      <td>0.0</td>\n",
              "      <td>0.000000</td>\n",
              "      <td>0.000000</td>\n",
              "      <td>0.000000</td>\n",
              "      <td>0.000000</td>\n",
              "      <td>0.0</td>\n",
              "      <td>0.000000</td>\n",
              "      <td>0.000000</td>\n",
              "      <td>0.000000</td>\n",
              "      <td>0.000000</td>\n",
              "      <td>0.000000</td>\n",
              "      <td>0.0</td>\n",
              "      <td>0.0</td>\n",
              "      <td>0.0</td>\n",
              "      <td>0.000000</td>\n",
              "      <td>0.0</td>\n",
              "      <td>0.000000</td>\n",
              "      <td>0.000000</td>\n",
              "      <td>0.000000</td>\n",
              "      <td>0.000000</td>\n",
              "      <td>0.000000</td>\n",
              "      <td>0.0</td>\n",
              "      <td>0.0</td>\n",
              "      <td>0.000000</td>\n",
              "      <td>0.000000</td>\n",
              "      <td>0.000000</td>\n",
              "      <td>0.0</td>\n",
              "      <td>0.000000</td>\n",
              "      <td>0.000000</td>\n",
              "      <td>0.000000</td>\n",
              "      <td>0.0</td>\n",
              "      <td>0.000000</td>\n",
              "      <td>0.000000</td>\n",
              "      <td>0.0</td>\n",
              "      <td>0.000000</td>\n",
              "      <td>0.000000</td>\n",
              "      <td>0.000000</td>\n",
              "      <td>0.000000</td>\n",
              "      <td>...</td>\n",
              "      <td>0.0</td>\n",
              "      <td>0.000000</td>\n",
              "      <td>0.0</td>\n",
              "      <td>0.0</td>\n",
              "      <td>0.0</td>\n",
              "      <td>0.000000</td>\n",
              "      <td>0.000000</td>\n",
              "      <td>0.000000</td>\n",
              "      <td>0.0</td>\n",
              "      <td>0.000000</td>\n",
              "      <td>0.000000</td>\n",
              "      <td>0.0</td>\n",
              "      <td>0.0</td>\n",
              "      <td>0.000000</td>\n",
              "      <td>0.000000</td>\n",
              "      <td>0.000000</td>\n",
              "      <td>0.000000</td>\n",
              "      <td>0.000000</td>\n",
              "      <td>0.000000</td>\n",
              "      <td>0.000000</td>\n",
              "      <td>0.0</td>\n",
              "      <td>0.000000</td>\n",
              "      <td>0.0</td>\n",
              "      <td>0.0</td>\n",
              "      <td>0.000000</td>\n",
              "      <td>0.000000</td>\n",
              "      <td>0.000000</td>\n",
              "      <td>0.0</td>\n",
              "      <td>0.000000</td>\n",
              "      <td>0.000000</td>\n",
              "      <td>0.000000</td>\n",
              "      <td>0.0</td>\n",
              "      <td>0.0</td>\n",
              "      <td>0.000000</td>\n",
              "      <td>0.0</td>\n",
              "      <td>0.000000</td>\n",
              "      <td>0.000000</td>\n",
              "      <td>0.000000</td>\n",
              "      <td>0.000000</td>\n",
              "      <td>0.0</td>\n",
              "    </tr>\n",
              "    <tr>\n",
              "      <th>356</th>\n",
              "      <td>0.000000</td>\n",
              "      <td>0.000000</td>\n",
              "      <td>0.0</td>\n",
              "      <td>0.000000</td>\n",
              "      <td>0.000000</td>\n",
              "      <td>0.000000</td>\n",
              "      <td>0.000000</td>\n",
              "      <td>0.0</td>\n",
              "      <td>0.000000</td>\n",
              "      <td>0.000000</td>\n",
              "      <td>0.000000</td>\n",
              "      <td>0.000000</td>\n",
              "      <td>0.000000</td>\n",
              "      <td>0.0</td>\n",
              "      <td>0.0</td>\n",
              "      <td>0.0</td>\n",
              "      <td>0.000000</td>\n",
              "      <td>0.0</td>\n",
              "      <td>0.000000</td>\n",
              "      <td>0.000000</td>\n",
              "      <td>0.000000</td>\n",
              "      <td>0.000000</td>\n",
              "      <td>0.000000</td>\n",
              "      <td>0.0</td>\n",
              "      <td>0.0</td>\n",
              "      <td>0.000000</td>\n",
              "      <td>0.000000</td>\n",
              "      <td>0.000000</td>\n",
              "      <td>0.0</td>\n",
              "      <td>0.000000</td>\n",
              "      <td>0.000000</td>\n",
              "      <td>0.000000</td>\n",
              "      <td>0.0</td>\n",
              "      <td>0.000000</td>\n",
              "      <td>0.000000</td>\n",
              "      <td>0.0</td>\n",
              "      <td>0.000000</td>\n",
              "      <td>0.000000</td>\n",
              "      <td>0.000000</td>\n",
              "      <td>0.000000</td>\n",
              "      <td>...</td>\n",
              "      <td>0.0</td>\n",
              "      <td>0.000000</td>\n",
              "      <td>0.0</td>\n",
              "      <td>0.0</td>\n",
              "      <td>0.0</td>\n",
              "      <td>0.000000</td>\n",
              "      <td>0.000000</td>\n",
              "      <td>0.000000</td>\n",
              "      <td>0.0</td>\n",
              "      <td>0.000000</td>\n",
              "      <td>0.000000</td>\n",
              "      <td>0.0</td>\n",
              "      <td>0.0</td>\n",
              "      <td>0.000000</td>\n",
              "      <td>0.000000</td>\n",
              "      <td>0.000000</td>\n",
              "      <td>0.000000</td>\n",
              "      <td>0.000000</td>\n",
              "      <td>0.000000</td>\n",
              "      <td>0.000000</td>\n",
              "      <td>0.0</td>\n",
              "      <td>0.000000</td>\n",
              "      <td>0.0</td>\n",
              "      <td>0.0</td>\n",
              "      <td>0.000000</td>\n",
              "      <td>0.000000</td>\n",
              "      <td>0.000000</td>\n",
              "      <td>0.0</td>\n",
              "      <td>0.000000</td>\n",
              "      <td>0.000000</td>\n",
              "      <td>0.000000</td>\n",
              "      <td>0.0</td>\n",
              "      <td>0.0</td>\n",
              "      <td>0.000000</td>\n",
              "      <td>0.0</td>\n",
              "      <td>0.000000</td>\n",
              "      <td>0.000000</td>\n",
              "      <td>0.000000</td>\n",
              "      <td>0.000000</td>\n",
              "      <td>0.0</td>\n",
              "    </tr>\n",
              "    <tr>\n",
              "      <th>357</th>\n",
              "      <td>0.000000</td>\n",
              "      <td>0.000000</td>\n",
              "      <td>0.0</td>\n",
              "      <td>0.000000</td>\n",
              "      <td>0.000000</td>\n",
              "      <td>0.000000</td>\n",
              "      <td>0.000000</td>\n",
              "      <td>0.0</td>\n",
              "      <td>0.000000</td>\n",
              "      <td>0.000000</td>\n",
              "      <td>0.000000</td>\n",
              "      <td>0.000000</td>\n",
              "      <td>0.000000</td>\n",
              "      <td>0.0</td>\n",
              "      <td>0.0</td>\n",
              "      <td>0.0</td>\n",
              "      <td>0.000000</td>\n",
              "      <td>0.0</td>\n",
              "      <td>0.000000</td>\n",
              "      <td>0.000000</td>\n",
              "      <td>0.000000</td>\n",
              "      <td>0.000000</td>\n",
              "      <td>0.000000</td>\n",
              "      <td>0.0</td>\n",
              "      <td>0.0</td>\n",
              "      <td>0.000000</td>\n",
              "      <td>0.000000</td>\n",
              "      <td>0.000000</td>\n",
              "      <td>0.0</td>\n",
              "      <td>0.000000</td>\n",
              "      <td>0.000000</td>\n",
              "      <td>0.000000</td>\n",
              "      <td>0.0</td>\n",
              "      <td>0.000000</td>\n",
              "      <td>0.000000</td>\n",
              "      <td>0.0</td>\n",
              "      <td>0.000000</td>\n",
              "      <td>0.000000</td>\n",
              "      <td>0.000000</td>\n",
              "      <td>0.000000</td>\n",
              "      <td>...</td>\n",
              "      <td>0.0</td>\n",
              "      <td>0.000000</td>\n",
              "      <td>0.0</td>\n",
              "      <td>0.0</td>\n",
              "      <td>0.0</td>\n",
              "      <td>0.000000</td>\n",
              "      <td>0.000000</td>\n",
              "      <td>0.000000</td>\n",
              "      <td>0.0</td>\n",
              "      <td>0.000000</td>\n",
              "      <td>0.000000</td>\n",
              "      <td>0.0</td>\n",
              "      <td>0.0</td>\n",
              "      <td>0.000000</td>\n",
              "      <td>0.000000</td>\n",
              "      <td>0.000000</td>\n",
              "      <td>0.000000</td>\n",
              "      <td>0.000000</td>\n",
              "      <td>0.000000</td>\n",
              "      <td>0.000000</td>\n",
              "      <td>0.0</td>\n",
              "      <td>0.000000</td>\n",
              "      <td>0.0</td>\n",
              "      <td>0.0</td>\n",
              "      <td>0.000000</td>\n",
              "      <td>0.000000</td>\n",
              "      <td>0.000000</td>\n",
              "      <td>0.0</td>\n",
              "      <td>0.000000</td>\n",
              "      <td>0.000000</td>\n",
              "      <td>0.000000</td>\n",
              "      <td>0.0</td>\n",
              "      <td>0.0</td>\n",
              "      <td>0.000000</td>\n",
              "      <td>0.0</td>\n",
              "      <td>0.000000</td>\n",
              "      <td>0.000000</td>\n",
              "      <td>0.000000</td>\n",
              "      <td>0.000000</td>\n",
              "      <td>0.0</td>\n",
              "    </tr>\n",
              "  </tbody>\n",
              "</table>\n",
              "<p>5 rows × 122 columns</p>\n",
              "</div>"
            ],
            "text/plain": [
              "           1          2    3          4    ...        119       120       121  122\n",
              "353  15.400000  22.299999  3.6  18.700003  ...  28.000002  1.700000  1.700000  0.0\n",
              "354  10.266666  14.866666  2.4  12.466667  ...  18.666666  1.133333  1.133333  0.0\n",
              "355   0.000000   0.000000  0.0   0.000000  ...   0.000000  0.000000  0.000000  0.0\n",
              "356   0.000000   0.000000  0.0   0.000000  ...   0.000000  0.000000  0.000000  0.0\n",
              "357   0.000000   0.000000  0.0   0.000000  ...   0.000000  0.000000  0.000000  0.0\n",
              "\n",
              "[5 rows x 122 columns]"
            ]
          },
          "metadata": {
            "tags": []
          },
          "execution_count": 186
        }
      ]
    },
    {
      "cell_type": "markdown",
      "metadata": {
        "id": "bF7TooANx0Oy"
      },
      "source": [
        "## Part 2\n",
        "\n",
        "*Use a linear regression model to predict the rainfall XR(s,t) at any location 's' on day 't', using as predictor the rainfall at all other locations on the same day, and also rainfall at the same location on the previous 2 days* `[XR(1,t)....XR(s-1,t), XR(s+1,t),....XR(357,t), XR(s,t-1), XR(s,t-2)]`*. Use 2010 data for training.*\n",
        "\n",
        "*Build such a model for* `s=42` *(Mumbai),* `s=158` *(Delhi),* `s= 299` *(Kharagpur).*"
      ]
    },
    {
      "cell_type": "code",
      "metadata": {
        "id": "RvN2lfuKDQss"
      },
      "source": [
        "def Trainable(Train,s):\n",
        "    copyt = Train.T             # transpose as working with columns is more suitable/easy\n",
        "    rainlist = copyt[s].tolist()        # rain at place s for 122 days\n",
        "    rainone = [0.0]                     # day -1 assumed to be zero\n",
        "    raintwo = [0.0, 0.0]                # day -1 and -2 assumed to be zero\n",
        "    # print(rainlist)\n",
        "    rainone = rainone + rainlist\n",
        "    raintwo = raintwo + rainlist\n",
        "    rainone = rainone[:-1]\n",
        "    raintwo = raintwo[:-2]              # getting t-1 and t-2 data and assuming zero rain at day -1 and -2\n",
        "    Y_train = copyt[s]\n",
        "    X_train = copyt.drop(s, axis=1)     # all 122 days data except place s\n",
        "    X_train['t-1'] = rainone            # adding two cols for the previous days rain at place s\n",
        "    X_train['t-2'] = raintwo\n",
        "    return X_train,Y_train"
      ],
      "execution_count": null,
      "outputs": []
    },
    {
      "cell_type": "code",
      "metadata": {
        "id": "KWv6OKE26otY"
      },
      "source": [
        "def Linear(s):\n",
        "    X_train,Y_train=Trainable(Train_main_df,s)\n",
        "    print(X_train.shape)\n",
        "    print(Y_train.shape)\n",
        "    linreg = LinearRegression()\n",
        "    linreg.fit(X_train, Y_train)\n",
        "    return linreg"
      ],
      "execution_count": null,
      "outputs": []
    },
    {
      "cell_type": "code",
      "metadata": {
        "id": "oTCScHUJG2TM",
        "outputId": "46cc3e66-d136-4491-da72-78e75222b71e",
        "colab": {
          "base_uri": "https://localhost:8080/",
          "height": 123
        }
      },
      "source": [
        "Bombay = Linear(42)\n",
        "Delhi = Linear(158)\n",
        "Kharagpur = Linear(299)                 #training for three cities"
      ],
      "execution_count": null,
      "outputs": [
        {
          "output_type": "stream",
          "text": [
            "(122, 358)\n",
            "(122,)\n",
            "(122, 358)\n",
            "(122,)\n",
            "(122, 358)\n",
            "(122,)\n"
          ],
          "name": "stdout"
        }
      ]
    },
    {
      "cell_type": "code",
      "metadata": {
        "id": "gXaxAFwMNZmQ",
        "outputId": "9bfaf04a-7fe9-434c-ef85-298c78a4bec3",
        "colab": {
          "base_uri": "https://localhost:8080/",
          "height": 252
        }
      },
      "source": [
        "Test_main_df1.head()                    # 2011 dataset"
      ],
      "execution_count": null,
      "outputs": [
        {
          "output_type": "execute_result",
          "data": {
            "text/html": [
              "<div>\n",
              "<style scoped>\n",
              "    .dataframe tbody tr th:only-of-type {\n",
              "        vertical-align: middle;\n",
              "    }\n",
              "\n",
              "    .dataframe tbody tr th {\n",
              "        vertical-align: top;\n",
              "    }\n",
              "\n",
              "    .dataframe thead th {\n",
              "        text-align: right;\n",
              "    }\n",
              "</style>\n",
              "<table border=\"1\" class=\"dataframe\">\n",
              "  <thead>\n",
              "    <tr style=\"text-align: right;\">\n",
              "      <th></th>\n",
              "      <th>1</th>\n",
              "      <th>2</th>\n",
              "      <th>3</th>\n",
              "      <th>4</th>\n",
              "      <th>5</th>\n",
              "      <th>6</th>\n",
              "      <th>7</th>\n",
              "      <th>8</th>\n",
              "      <th>9</th>\n",
              "      <th>10</th>\n",
              "      <th>11</th>\n",
              "      <th>12</th>\n",
              "      <th>13</th>\n",
              "      <th>14</th>\n",
              "      <th>15</th>\n",
              "      <th>16</th>\n",
              "      <th>17</th>\n",
              "      <th>18</th>\n",
              "      <th>19</th>\n",
              "      <th>20</th>\n",
              "      <th>21</th>\n",
              "      <th>22</th>\n",
              "      <th>23</th>\n",
              "      <th>24</th>\n",
              "      <th>25</th>\n",
              "      <th>26</th>\n",
              "      <th>27</th>\n",
              "      <th>28</th>\n",
              "      <th>29</th>\n",
              "      <th>30</th>\n",
              "      <th>31</th>\n",
              "      <th>32</th>\n",
              "      <th>33</th>\n",
              "      <th>34</th>\n",
              "      <th>35</th>\n",
              "      <th>36</th>\n",
              "      <th>37</th>\n",
              "      <th>38</th>\n",
              "      <th>39</th>\n",
              "      <th>40</th>\n",
              "      <th>...</th>\n",
              "      <th>83</th>\n",
              "      <th>84</th>\n",
              "      <th>85</th>\n",
              "      <th>86</th>\n",
              "      <th>87</th>\n",
              "      <th>88</th>\n",
              "      <th>89</th>\n",
              "      <th>90</th>\n",
              "      <th>91</th>\n",
              "      <th>92</th>\n",
              "      <th>93</th>\n",
              "      <th>94</th>\n",
              "      <th>95</th>\n",
              "      <th>96</th>\n",
              "      <th>97</th>\n",
              "      <th>98</th>\n",
              "      <th>99</th>\n",
              "      <th>100</th>\n",
              "      <th>101</th>\n",
              "      <th>102</th>\n",
              "      <th>103</th>\n",
              "      <th>104</th>\n",
              "      <th>105</th>\n",
              "      <th>106</th>\n",
              "      <th>107</th>\n",
              "      <th>108</th>\n",
              "      <th>109</th>\n",
              "      <th>110</th>\n",
              "      <th>111</th>\n",
              "      <th>112</th>\n",
              "      <th>113</th>\n",
              "      <th>114</th>\n",
              "      <th>115</th>\n",
              "      <th>116</th>\n",
              "      <th>117</th>\n",
              "      <th>118</th>\n",
              "      <th>119</th>\n",
              "      <th>120</th>\n",
              "      <th>121</th>\n",
              "      <th>122</th>\n",
              "    </tr>\n",
              "  </thead>\n",
              "  <tbody>\n",
              "    <tr>\n",
              "      <th>1</th>\n",
              "      <td>0.0</td>\n",
              "      <td>0.0</td>\n",
              "      <td>0.0</td>\n",
              "      <td>0.000000</td>\n",
              "      <td>0.0</td>\n",
              "      <td>0.0</td>\n",
              "      <td>0.0</td>\n",
              "      <td>0.0</td>\n",
              "      <td>0.0</td>\n",
              "      <td>0.0</td>\n",
              "      <td>0.000000</td>\n",
              "      <td>0.000000</td>\n",
              "      <td>0.000000</td>\n",
              "      <td>0.000000</td>\n",
              "      <td>0.000000</td>\n",
              "      <td>0.0</td>\n",
              "      <td>0.0</td>\n",
              "      <td>0.0</td>\n",
              "      <td>0.0</td>\n",
              "      <td>0.0</td>\n",
              "      <td>0.000000</td>\n",
              "      <td>0.0</td>\n",
              "      <td>0.0</td>\n",
              "      <td>0.0</td>\n",
              "      <td>0.0</td>\n",
              "      <td>0.0</td>\n",
              "      <td>0.0</td>\n",
              "      <td>0.185278</td>\n",
              "      <td>0.0</td>\n",
              "      <td>0.0</td>\n",
              "      <td>0.000000</td>\n",
              "      <td>0.000000</td>\n",
              "      <td>2.033708</td>\n",
              "      <td>0.000000</td>\n",
              "      <td>0.184883</td>\n",
              "      <td>0.000000</td>\n",
              "      <td>2.680797</td>\n",
              "      <td>4.948352</td>\n",
              "      <td>5.173365</td>\n",
              "      <td>0.138860</td>\n",
              "      <td>...</td>\n",
              "      <td>0.369765</td>\n",
              "      <td>0.000000</td>\n",
              "      <td>0.0</td>\n",
              "      <td>0.0</td>\n",
              "      <td>0.381641</td>\n",
              "      <td>1.078712</td>\n",
              "      <td>2.762939</td>\n",
              "      <td>15.534396</td>\n",
              "      <td>31.112030</td>\n",
              "      <td>19.460709</td>\n",
              "      <td>5.486663</td>\n",
              "      <td>5.964305</td>\n",
              "      <td>17.108110</td>\n",
              "      <td>3.543520</td>\n",
              "      <td>2.559318</td>\n",
              "      <td>127.579361</td>\n",
              "      <td>121.933098</td>\n",
              "      <td>3.120047</td>\n",
              "      <td>0.0</td>\n",
              "      <td>0.000000</td>\n",
              "      <td>15.017424</td>\n",
              "      <td>8.859507</td>\n",
              "      <td>19.032047</td>\n",
              "      <td>0.000000</td>\n",
              "      <td>0.000000</td>\n",
              "      <td>2.320731</td>\n",
              "      <td>3.249167</td>\n",
              "      <td>0.0</td>\n",
              "      <td>0.0</td>\n",
              "      <td>0.0</td>\n",
              "      <td>0.0</td>\n",
              "      <td>0.0</td>\n",
              "      <td>0.0</td>\n",
              "      <td>0.000000</td>\n",
              "      <td>0.0</td>\n",
              "      <td>0.0</td>\n",
              "      <td>0.0</td>\n",
              "      <td>0.0</td>\n",
              "      <td>0.0</td>\n",
              "      <td>0.0</td>\n",
              "    </tr>\n",
              "    <tr>\n",
              "      <th>2</th>\n",
              "      <td>0.0</td>\n",
              "      <td>0.0</td>\n",
              "      <td>0.0</td>\n",
              "      <td>0.000000</td>\n",
              "      <td>0.0</td>\n",
              "      <td>0.0</td>\n",
              "      <td>0.0</td>\n",
              "      <td>0.0</td>\n",
              "      <td>0.0</td>\n",
              "      <td>0.0</td>\n",
              "      <td>0.000000</td>\n",
              "      <td>0.000000</td>\n",
              "      <td>0.000000</td>\n",
              "      <td>0.000000</td>\n",
              "      <td>0.000000</td>\n",
              "      <td>0.0</td>\n",
              "      <td>0.0</td>\n",
              "      <td>0.0</td>\n",
              "      <td>0.0</td>\n",
              "      <td>0.0</td>\n",
              "      <td>0.000000</td>\n",
              "      <td>0.0</td>\n",
              "      <td>0.0</td>\n",
              "      <td>0.0</td>\n",
              "      <td>0.0</td>\n",
              "      <td>0.0</td>\n",
              "      <td>0.0</td>\n",
              "      <td>0.000000</td>\n",
              "      <td>0.0</td>\n",
              "      <td>0.0</td>\n",
              "      <td>0.000000</td>\n",
              "      <td>0.000000</td>\n",
              "      <td>0.000000</td>\n",
              "      <td>0.000000</td>\n",
              "      <td>0.000000</td>\n",
              "      <td>0.000000</td>\n",
              "      <td>0.000000</td>\n",
              "      <td>8.958035</td>\n",
              "      <td>0.000000</td>\n",
              "      <td>0.000000</td>\n",
              "      <td>...</td>\n",
              "      <td>0.000000</td>\n",
              "      <td>0.000000</td>\n",
              "      <td>0.0</td>\n",
              "      <td>0.0</td>\n",
              "      <td>0.000000</td>\n",
              "      <td>0.000000</td>\n",
              "      <td>2.008009</td>\n",
              "      <td>11.046118</td>\n",
              "      <td>23.083147</td>\n",
              "      <td>18.015162</td>\n",
              "      <td>11.933199</td>\n",
              "      <td>12.927632</td>\n",
              "      <td>34.816326</td>\n",
              "      <td>0.000000</td>\n",
              "      <td>0.000000</td>\n",
              "      <td>72.575233</td>\n",
              "      <td>78.449051</td>\n",
              "      <td>5.970378</td>\n",
              "      <td>0.0</td>\n",
              "      <td>0.000000</td>\n",
              "      <td>10.052490</td>\n",
              "      <td>2.070224</td>\n",
              "      <td>29.887758</td>\n",
              "      <td>0.000000</td>\n",
              "      <td>0.000000</td>\n",
              "      <td>0.000000</td>\n",
              "      <td>2.012872</td>\n",
              "      <td>0.0</td>\n",
              "      <td>0.0</td>\n",
              "      <td>0.0</td>\n",
              "      <td>0.0</td>\n",
              "      <td>0.0</td>\n",
              "      <td>0.0</td>\n",
              "      <td>0.000000</td>\n",
              "      <td>0.0</td>\n",
              "      <td>0.0</td>\n",
              "      <td>0.0</td>\n",
              "      <td>0.0</td>\n",
              "      <td>0.0</td>\n",
              "      <td>0.0</td>\n",
              "    </tr>\n",
              "    <tr>\n",
              "      <th>3</th>\n",
              "      <td>0.0</td>\n",
              "      <td>0.0</td>\n",
              "      <td>0.0</td>\n",
              "      <td>21.500555</td>\n",
              "      <td>0.0</td>\n",
              "      <td>0.0</td>\n",
              "      <td>0.0</td>\n",
              "      <td>0.0</td>\n",
              "      <td>0.0</td>\n",
              "      <td>0.0</td>\n",
              "      <td>1.325026</td>\n",
              "      <td>4.442735</td>\n",
              "      <td>7.948280</td>\n",
              "      <td>75.593704</td>\n",
              "      <td>8.080275</td>\n",
              "      <td>0.0</td>\n",
              "      <td>0.0</td>\n",
              "      <td>0.0</td>\n",
              "      <td>0.0</td>\n",
              "      <td>0.0</td>\n",
              "      <td>0.000000</td>\n",
              "      <td>0.0</td>\n",
              "      <td>0.0</td>\n",
              "      <td>0.0</td>\n",
              "      <td>0.0</td>\n",
              "      <td>0.0</td>\n",
              "      <td>0.0</td>\n",
              "      <td>0.000000</td>\n",
              "      <td>0.0</td>\n",
              "      <td>0.0</td>\n",
              "      <td>0.000000</td>\n",
              "      <td>0.000000</td>\n",
              "      <td>0.000000</td>\n",
              "      <td>9.776277</td>\n",
              "      <td>5.391882</td>\n",
              "      <td>2.522401</td>\n",
              "      <td>7.840161</td>\n",
              "      <td>12.483876</td>\n",
              "      <td>17.858332</td>\n",
              "      <td>19.607910</td>\n",
              "      <td>...</td>\n",
              "      <td>2.305163</td>\n",
              "      <td>35.359970</td>\n",
              "      <td>0.0</td>\n",
              "      <td>0.0</td>\n",
              "      <td>10.266807</td>\n",
              "      <td>7.287509</td>\n",
              "      <td>29.613338</td>\n",
              "      <td>5.146783</td>\n",
              "      <td>38.125687</td>\n",
              "      <td>0.545599</td>\n",
              "      <td>1.091198</td>\n",
              "      <td>6.700237</td>\n",
              "      <td>6.558243</td>\n",
              "      <td>22.360601</td>\n",
              "      <td>85.824715</td>\n",
              "      <td>186.834686</td>\n",
              "      <td>75.342026</td>\n",
              "      <td>4.566547</td>\n",
              "      <td>0.0</td>\n",
              "      <td>0.000000</td>\n",
              "      <td>0.000000</td>\n",
              "      <td>30.210543</td>\n",
              "      <td>15.056442</td>\n",
              "      <td>0.000000</td>\n",
              "      <td>0.000000</td>\n",
              "      <td>2.149278</td>\n",
              "      <td>38.689827</td>\n",
              "      <td>0.0</td>\n",
              "      <td>0.0</td>\n",
              "      <td>0.0</td>\n",
              "      <td>0.0</td>\n",
              "      <td>0.0</td>\n",
              "      <td>0.0</td>\n",
              "      <td>1.563111</td>\n",
              "      <td>0.0</td>\n",
              "      <td>0.0</td>\n",
              "      <td>0.0</td>\n",
              "      <td>0.0</td>\n",
              "      <td>0.0</td>\n",
              "      <td>0.0</td>\n",
              "    </tr>\n",
              "    <tr>\n",
              "      <th>4</th>\n",
              "      <td>0.0</td>\n",
              "      <td>0.0</td>\n",
              "      <td>0.0</td>\n",
              "      <td>0.000000</td>\n",
              "      <td>0.0</td>\n",
              "      <td>0.0</td>\n",
              "      <td>0.0</td>\n",
              "      <td>0.0</td>\n",
              "      <td>0.0</td>\n",
              "      <td>0.0</td>\n",
              "      <td>0.000000</td>\n",
              "      <td>0.000000</td>\n",
              "      <td>0.639077</td>\n",
              "      <td>6.604940</td>\n",
              "      <td>0.108992</td>\n",
              "      <td>0.0</td>\n",
              "      <td>0.0</td>\n",
              "      <td>0.0</td>\n",
              "      <td>0.0</td>\n",
              "      <td>0.0</td>\n",
              "      <td>0.217983</td>\n",
              "      <td>0.0</td>\n",
              "      <td>0.0</td>\n",
              "      <td>0.0</td>\n",
              "      <td>0.0</td>\n",
              "      <td>0.0</td>\n",
              "      <td>0.0</td>\n",
              "      <td>0.000000</td>\n",
              "      <td>0.0</td>\n",
              "      <td>0.0</td>\n",
              "      <td>0.290645</td>\n",
              "      <td>0.326975</td>\n",
              "      <td>0.000000</td>\n",
              "      <td>9.373127</td>\n",
              "      <td>1.250425</td>\n",
              "      <td>0.326975</td>\n",
              "      <td>0.000000</td>\n",
              "      <td>34.397381</td>\n",
              "      <td>11.856451</td>\n",
              "      <td>15.145469</td>\n",
              "      <td>...</td>\n",
              "      <td>0.000000</td>\n",
              "      <td>16.189949</td>\n",
              "      <td>0.0</td>\n",
              "      <td>0.0</td>\n",
              "      <td>3.344543</td>\n",
              "      <td>3.935243</td>\n",
              "      <td>8.378140</td>\n",
              "      <td>33.333427</td>\n",
              "      <td>54.624939</td>\n",
              "      <td>13.371160</td>\n",
              "      <td>0.363306</td>\n",
              "      <td>19.586903</td>\n",
              "      <td>0.625213</td>\n",
              "      <td>22.111752</td>\n",
              "      <td>66.274300</td>\n",
              "      <td>138.969025</td>\n",
              "      <td>59.655888</td>\n",
              "      <td>2.638884</td>\n",
              "      <td>0.0</td>\n",
              "      <td>0.000000</td>\n",
              "      <td>0.494259</td>\n",
              "      <td>48.747658</td>\n",
              "      <td>7.988505</td>\n",
              "      <td>2.216165</td>\n",
              "      <td>1.036551</td>\n",
              "      <td>4.511424</td>\n",
              "      <td>1.015970</td>\n",
              "      <td>0.0</td>\n",
              "      <td>0.0</td>\n",
              "      <td>0.0</td>\n",
              "      <td>0.0</td>\n",
              "      <td>0.0</td>\n",
              "      <td>0.0</td>\n",
              "      <td>0.000000</td>\n",
              "      <td>0.0</td>\n",
              "      <td>0.0</td>\n",
              "      <td>0.0</td>\n",
              "      <td>0.0</td>\n",
              "      <td>0.0</td>\n",
              "      <td>0.0</td>\n",
              "    </tr>\n",
              "    <tr>\n",
              "      <th>5</th>\n",
              "      <td>0.0</td>\n",
              "      <td>0.0</td>\n",
              "      <td>0.0</td>\n",
              "      <td>0.000000</td>\n",
              "      <td>0.0</td>\n",
              "      <td>0.0</td>\n",
              "      <td>0.0</td>\n",
              "      <td>0.0</td>\n",
              "      <td>0.0</td>\n",
              "      <td>0.0</td>\n",
              "      <td>0.000000</td>\n",
              "      <td>0.000000</td>\n",
              "      <td>0.000000</td>\n",
              "      <td>0.000000</td>\n",
              "      <td>0.000000</td>\n",
              "      <td>0.0</td>\n",
              "      <td>0.0</td>\n",
              "      <td>0.0</td>\n",
              "      <td>0.0</td>\n",
              "      <td>0.0</td>\n",
              "      <td>0.000000</td>\n",
              "      <td>0.0</td>\n",
              "      <td>0.0</td>\n",
              "      <td>0.0</td>\n",
              "      <td>0.0</td>\n",
              "      <td>0.0</td>\n",
              "      <td>0.0</td>\n",
              "      <td>0.000000</td>\n",
              "      <td>0.0</td>\n",
              "      <td>0.0</td>\n",
              "      <td>0.000000</td>\n",
              "      <td>0.000000</td>\n",
              "      <td>0.232115</td>\n",
              "      <td>0.000000</td>\n",
              "      <td>0.000000</td>\n",
              "      <td>0.000000</td>\n",
              "      <td>0.541212</td>\n",
              "      <td>6.702410</td>\n",
              "      <td>6.658057</td>\n",
              "      <td>1.495367</td>\n",
              "      <td>...</td>\n",
              "      <td>0.000000</td>\n",
              "      <td>0.000000</td>\n",
              "      <td>0.0</td>\n",
              "      <td>0.0</td>\n",
              "      <td>0.000000</td>\n",
              "      <td>0.121333</td>\n",
              "      <td>1.944354</td>\n",
              "      <td>16.418554</td>\n",
              "      <td>45.220749</td>\n",
              "      <td>8.702755</td>\n",
              "      <td>0.470484</td>\n",
              "      <td>4.417555</td>\n",
              "      <td>12.431360</td>\n",
              "      <td>3.968278</td>\n",
              "      <td>13.383103</td>\n",
              "      <td>39.888123</td>\n",
              "      <td>210.623093</td>\n",
              "      <td>2.181559</td>\n",
              "      <td>0.0</td>\n",
              "      <td>1.764315</td>\n",
              "      <td>1.192227</td>\n",
              "      <td>2.661123</td>\n",
              "      <td>5.596737</td>\n",
              "      <td>0.000000</td>\n",
              "      <td>0.676007</td>\n",
              "      <td>1.088342</td>\n",
              "      <td>4.301603</td>\n",
              "      <td>0.0</td>\n",
              "      <td>0.0</td>\n",
              "      <td>0.0</td>\n",
              "      <td>0.0</td>\n",
              "      <td>0.0</td>\n",
              "      <td>0.0</td>\n",
              "      <td>0.588105</td>\n",
              "      <td>0.0</td>\n",
              "      <td>0.0</td>\n",
              "      <td>0.0</td>\n",
              "      <td>0.0</td>\n",
              "      <td>0.0</td>\n",
              "      <td>0.0</td>\n",
              "    </tr>\n",
              "  </tbody>\n",
              "</table>\n",
              "<p>5 rows × 122 columns</p>\n",
              "</div>"
            ],
            "text/plain": [
              "   1    2    3          4    5    6    ...  117  118  119  120  121  122\n",
              "1  0.0  0.0  0.0   0.000000  0.0  0.0  ...  0.0  0.0  0.0  0.0  0.0  0.0\n",
              "2  0.0  0.0  0.0   0.000000  0.0  0.0  ...  0.0  0.0  0.0  0.0  0.0  0.0\n",
              "3  0.0  0.0  0.0  21.500555  0.0  0.0  ...  0.0  0.0  0.0  0.0  0.0  0.0\n",
              "4  0.0  0.0  0.0   0.000000  0.0  0.0  ...  0.0  0.0  0.0  0.0  0.0  0.0\n",
              "5  0.0  0.0  0.0   0.000000  0.0  0.0  ...  0.0  0.0  0.0  0.0  0.0  0.0\n",
              "\n",
              "[5 rows x 122 columns]"
            ]
          },
          "metadata": {
            "tags": []
          },
          "execution_count": 190
        }
      ]
    },
    {
      "cell_type": "markdown",
      "metadata": {
        "id": "AvfkAr3qU4v2"
      },
      "source": [
        "### Predicting on test data"
      ]
    },
    {
      "cell_type": "code",
      "metadata": {
        "id": "_NIpV0mzLSxv"
      },
      "source": [
        "def Predictmodel(model, s):             # model is the trained model and s is the city number\n",
        "    X_test,Y_test=Trainable(Test_main_df1,s)\n",
        "    Y_pred = model.predict(X_test)      # predicting on 2011\n",
        "    Y_pred = [0.0 if x<0 else x for x in Y_pred]# amount of rain cannot be negative, so replace by zero\n",
        "    return Y_pred"
      ],
      "execution_count": null,
      "outputs": []
    },
    {
      "cell_type": "code",
      "metadata": {
        "id": "Zn10XHabN2ej"
      },
      "source": [
        "Y_bombay = Predictmodel(Bombay, 42)\n",
        "Y_delhi = Predictmodel(Delhi, 158)\n",
        "Y_kgp = Predictmodel(Kharagpur, 299)\n",
        "      \n",
        "\n",
        "Y_bombay_actual = Test_main_df1.T[42]\n",
        "Y_delhi_actual = Test_main_df1.T[158]\n",
        "Y_kgp_actual = Test_main_df1.T[299]"
      ],
      "execution_count": null,
      "outputs": []
    },
    {
      "cell_type": "markdown",
      "metadata": {
        "id": "dvavrHoHUzOA"
      },
      "source": [
        "## Part 3\n",
        "\n",
        "*Use the same model to predict the rainfall at these 3 locations on each day of 2011.  Use values in XR as predictors. Compare the results with the true values and compute error for 3 locations separately.*"
      ]
    },
    {
      "cell_type": "code",
      "metadata": {
        "id": "JJjbT2XNN9gH",
        "outputId": "ad0ce702-a92d-4a61-c7c2-38093421c6e6",
        "colab": {
          "base_uri": "https://localhost:8080/",
          "height": 70
        }
      },
      "source": [
        "from sklearn.metrics import mean_squared_error\n",
        "\n",
        "rmsbombay = (mean_squared_error(Y_bombay_actual, Y_bombay))\n",
        "rmsdelhi = (mean_squared_error(Y_delhi_actual, Y_delhi))\n",
        "rmskgp = (mean_squared_error(Y_kgp_actual, Y_kgp))\n",
        "print(\"Bombay error:\" + str(rmsbombay))\n",
        "print(\"Delhi error:\" + str(rmsdelhi))\n",
        "print(\"Kgp error:\" + str(rmskgp))"
      ],
      "execution_count": null,
      "outputs": [
        {
          "output_type": "stream",
          "text": [
            "Bombay error:1204.7749014858373\n",
            "Delhi error:448.46136659206354\n",
            "Kgp error:419.35458442698535\n"
          ],
          "name": "stdout"
        }
      ]
    },
    {
      "cell_type": "markdown",
      "metadata": {
        "id": "fs7snnwOUwaV"
      },
      "source": [
        "## Part 4\n",
        "\n",
        "*Repeat the same process using LASSO linear regression. Using the coefficients, identify the top 5 predictors for each of the 3 locations.*"
      ]
    },
    {
      "cell_type": "code",
      "metadata": {
        "id": "AqvdckmkRVxl"
      },
      "source": [
        "def Lassoreg(s,p):\n",
        "    X_train,Y_train=Trainable(Train_main_df,s)\n",
        "    model = Lasso(alpha=p, tol=0.01)       # training on lasso\n",
        "    model.fit(X_train, Y_train)\n",
        "    # print('abc')\n",
        "    return model, X_train"
      ],
      "execution_count": null,
      "outputs": []
    },
    {
      "cell_type": "code",
      "metadata": {
        "id": "IjCO0Y_lSyxV",
        "outputId": "8830c8af-af83-4e80-b85b-97dbc57ebade",
        "colab": {
          "base_uri": "https://localhost:8080/",
          "height": 70
        }
      },
      "source": [
        "lassoB, _ = Lassoreg(42, 40)\n",
        "print(np.count_nonzero(lassoB.coef_))\n",
        "lassoD, _ = Lassoreg(158, 60)\n",
        "print(np.count_nonzero(lassoD.coef_))         # getting top five coefficients by changing alpha\n",
        "lassoK, _ = Lassoreg(299, 60)\n",
        "print(np.count_nonzero(lassoK.coef_))"
      ],
      "execution_count": null,
      "outputs": [
        {
          "output_type": "stream",
          "text": [
            "5\n",
            "5\n",
            "5\n"
          ],
          "name": "stdout"
        }
      ]
    },
    {
      "cell_type": "code",
      "metadata": {
        "id": "ahvIUIi5j0eV"
      },
      "source": [
        "indexB=[]\n",
        "for x in lassoB.coef_:\n",
        "  if x!=0:\n",
        "    indexB.append(list(lassoB.coef_).index(x))\n",
        "\n",
        "\n",
        "indexD=[]\n",
        "for x in lassoD.coef_:\n",
        "  if x!=0:\n",
        "    indexD.append(list(lassoD.coef_).index(x))          # getting index for non zero values\n",
        "\n",
        "indexK=[]\n",
        "for x in lassoK.coef_:\n",
        "  if x!=0:\n",
        "    indexK.append(list(lassoK.coef_).index(x))"
      ],
      "execution_count": null,
      "outputs": []
    },
    {
      "cell_type": "code",
      "metadata": {
        "id": "SvV4IC4mnilj",
        "outputId": "0af3d42d-0190-4037-f86c-cb62afd3c5d1",
        "colab": {
          "base_uri": "https://localhost:8080/",
          "height": 70
        }
      },
      "source": [
        "print(indexB)\n",
        "print(indexD)\n",
        "print(indexK)           #The features at these column numbers are most important out of 358"
      ],
      "execution_count": null,
      "outputs": [
        {
          "output_type": "stream",
          "text": [
            "[25, 39, 40, 314, 315]\n",
            "[25, 132, 158, 160, 214]\n",
            "[161, 230, 232, 247, 303]\n"
          ],
          "name": "stdout"
        }
      ]
    },
    {
      "cell_type": "code",
      "metadata": {
        "id": "eWqfOOhDAxKB"
      },
      "source": [
        "y_pred_lasso_B=Predictmodel(lassoB,42)\n",
        "y_pred_lasso_D=Predictmodel(lassoD,158)\n",
        "y_pred_lasso_K=Predictmodel(lassoK,299)"
      ],
      "execution_count": null,
      "outputs": []
    },
    {
      "cell_type": "code",
      "metadata": {
        "id": "uX4PL68orEkq",
        "outputId": "70d997e3-a90e-427e-a982-7092efbecef4",
        "colab": {
          "base_uri": "https://localhost:8080/",
          "height": 70
        }
      },
      "source": [
        "rmsbombay = (mean_squared_error(Y_bombay_actual, y_pred_lasso_B))\n",
        "rmsdelhi = (mean_squared_error(Y_delhi_actual, y_pred_lasso_D))\n",
        "rmskgp = (mean_squared_error(Y_kgp_actual, y_pred_lasso_K))\n",
        "print(\"Bombay error:\" + str(rmsbombay))\n",
        "print(\"Delhi error:\" + str(rmsdelhi))\n",
        "print(\"Kgp error:\" + str(rmskgp))"
      ],
      "execution_count": null,
      "outputs": [
        {
          "output_type": "stream",
          "text": [
            "Bombay error:1029.5747422659927\n",
            "Delhi error:177.65386470515926\n",
            "Kgp error:406.0173392249512\n"
          ],
          "name": "stdout"
        }
      ]
    },
    {
      "cell_type": "markdown",
      "metadata": {
        "id": "iFs2rIYxBX8N"
      },
      "source": [
        "## Part 5\n",
        "\n",
        "*Use Decision Tree on 2010 data to classify each day as 1 or 0 (as given in ZR1). For each day, use the 357-dimensional rainfall vector as feature vector. Report the 10 most discriminative features (i.e. locations)*"
      ]
    },
    {
      "cell_type": "code",
      "metadata": {
        "id": "rgSOCVhTChqv",
        "outputId": "1cd14807-8fd0-4730-c5a6-9f2149ee714a",
        "colab": {
          "base_uri": "https://localhost:8080/",
          "height": 52
        }
      },
      "source": [
        "train_vector = mat['ZR1'][0]\n",
        "test_vector=mat1['ZR'][0]\n",
        "print(np.shape(Train_main_df))\n",
        "print(np.shape(train_vector))       #checking the dimensions and getting the vectors ready"
      ],
      "execution_count": null,
      "outputs": [
        {
          "output_type": "stream",
          "text": [
            "(357, 122)\n",
            "(122,)\n"
          ],
          "name": "stdout"
        }
      ]
    },
    {
      "cell_type": "code",
      "metadata": {
        "id": "tKMD2KUHBkgX",
        "outputId": "3e6bdfca-c8f7-4920-c157-1b6cf2d4708a",
        "colab": {
          "base_uri": "https://localhost:8080/",
          "height": 123
        }
      },
      "source": [
        "from sklearn.tree import DecisionTreeClassifier\n",
        "treem=DecisionTreeClassifier(criterion='entropy',random_state=5)\n",
        "treem.fit(Train_main_df.T,train_vector.T)  # the input shapes must be (122,357) and (122,)  i.e. (num_labels,num_features) for X and (num_labels) for Y"
      ],
      "execution_count": null,
      "outputs": [
        {
          "output_type": "execute_result",
          "data": {
            "text/plain": [
              "DecisionTreeClassifier(ccp_alpha=0.0, class_weight=None, criterion='entropy',\n",
              "                       max_depth=None, max_features=None, max_leaf_nodes=None,\n",
              "                       min_impurity_decrease=0.0, min_impurity_split=None,\n",
              "                       min_samples_leaf=1, min_samples_split=2,\n",
              "                       min_weight_fraction_leaf=0.0, presort='deprecated',\n",
              "                       random_state=5, splitter='best')"
            ]
          },
          "metadata": {
            "tags": []
          },
          "execution_count": 201
        }
      ]
    },
    {
      "cell_type": "code",
      "metadata": {
        "id": "_IgIOQbSEbKP"
      },
      "source": [
        "all_feat=treem.feature_importances_"
      ],
      "execution_count": null,
      "outputs": []
    },
    {
      "cell_type": "code",
      "metadata": {
        "id": "LHxOa8c0HCsP",
        "outputId": "bbdb3dad-80e2-425f-f2ec-214968bf897b",
        "colab": {
          "base_uri": "https://localhost:8080/",
          "height": 35
        }
      },
      "source": [
        "np.count_nonzero(all_feat)  # how many features have non zero weight/importance"
      ],
      "execution_count": null,
      "outputs": [
        {
          "output_type": "execute_result",
          "data": {
            "text/plain": [
              "8"
            ]
          },
          "metadata": {
            "tags": []
          },
          "execution_count": 203
        }
      ]
    },
    {
      "cell_type": "code",
      "metadata": {
        "id": "5Fin3rwvHPRn"
      },
      "source": [
        "imp_feat=np.nonzero(all_feat)[0]"
      ],
      "execution_count": null,
      "outputs": []
    },
    {
      "cell_type": "code",
      "metadata": {
        "id": "KxfJq_ZTHzAY",
        "outputId": "a6231b42-6a18-4e00-a201-29c841f6c5e0",
        "colab": {
          "base_uri": "https://localhost:8080/",
          "height": 35
        }
      },
      "source": [
        "imp_feat # col numbers of 8 most important features"
      ],
      "execution_count": null,
      "outputs": [
        {
          "output_type": "execute_result",
          "data": {
            "text/plain": [
              "array([ 29,  87, 123, 159, 216, 255, 314, 337])"
            ]
          },
          "metadata": {
            "tags": []
          },
          "execution_count": 205
        }
      ]
    },
    {
      "cell_type": "markdown",
      "metadata": {
        "id": "Q1cfZxxRPu4a"
      },
      "source": [
        "## Part 6\n",
        "\n",
        "*Use this Decision Tree to classify each day of 2011 as 1 or 0. Report accuracy by comparing with ZR.*"
      ]
    },
    {
      "cell_type": "code",
      "metadata": {
        "id": "qAIvPFZpIWGy"
      },
      "source": [
        "prediction_tree=treem.predict(Test_main_df1.T)  # predicting on 2011 data"
      ],
      "execution_count": null,
      "outputs": []
    },
    {
      "cell_type": "code",
      "metadata": {
        "id": "P_t8NlS-IzIj",
        "outputId": "ad0e8f74-0577-4d61-aac9-28272ff1cecb",
        "colab": {
          "base_uri": "https://localhost:8080/",
          "height": 123
        }
      },
      "source": [
        "prediction_tree"
      ],
      "execution_count": null,
      "outputs": [
        {
          "output_type": "execute_result",
          "data": {
            "text/plain": [
              "array([0, 0, 0, 0, 0, 0, 0, 0, 0, 0, 0, 0, 0, 0, 1, 0, 0, 0, 0, 0, 0, 0,\n",
              "       0, 0, 0, 1, 0, 0, 1, 0, 0, 0, 0, 0, 0, 0, 0, 1, 1, 0, 1, 0, 1, 1,\n",
              "       0, 1, 0, 1, 1, 0, 1, 0, 1, 0, 0, 0, 0, 0, 0, 0, 0, 0, 0, 0, 0, 1,\n",
              "       1, 0, 0, 0, 1, 0, 1, 1, 0, 0, 0, 0, 0, 0, 0, 0, 0, 0, 1, 1, 0, 1,\n",
              "       1, 0, 0, 0, 0, 0, 1, 0, 0, 0, 0, 0, 0, 0, 0, 0, 0, 0, 0, 1, 0, 0,\n",
              "       0, 0, 0, 0, 0, 0, 0, 0, 0, 0, 0, 0], dtype=uint8)"
            ]
          },
          "metadata": {
            "tags": []
          },
          "execution_count": 207
        }
      ]
    },
    {
      "cell_type": "code",
      "metadata": {
        "id": "h3ONfjvzI1lG",
        "outputId": "7b1fa850-7bcc-4327-d67e-4550b575faca",
        "colab": {
          "base_uri": "https://localhost:8080/",
          "height": 123
        }
      },
      "source": [
        "test_vector"
      ],
      "execution_count": null,
      "outputs": [
        {
          "output_type": "execute_result",
          "data": {
            "text/plain": [
              "array([0, 0, 0, 0, 0, 0, 0, 0, 0, 0, 0, 0, 0, 0, 0, 0, 0, 0, 0, 0, 0, 0,\n",
              "       0, 0, 0, 0, 1, 1, 1, 1, 0, 0, 0, 0, 0, 0, 0, 0, 0, 0, 0, 0, 0, 1,\n",
              "       1, 1, 1, 1, 1, 0, 0, 0, 1, 0, 0, 0, 0, 0, 1, 0, 0, 0, 0, 0, 1, 0,\n",
              "       1, 1, 1, 1, 1, 1, 0, 1, 1, 1, 1, 1, 0, 0, 0, 0, 0, 0, 1, 1, 0, 1,\n",
              "       0, 0, 0, 0, 0, 1, 1, 0, 0, 0, 1, 0, 0, 0, 0, 0, 0, 0, 0, 1, 1, 0,\n",
              "       0, 0, 0, 0, 0, 0, 0, 0, 0, 0, 0, 0], dtype=uint8)"
            ]
          },
          "metadata": {
            "tags": []
          },
          "execution_count": 208
        }
      ]
    },
    {
      "cell_type": "code",
      "metadata": {
        "id": "7gc9Ic_fJYq1"
      },
      "source": [
        "count=0\n",
        "for i in range(len(test_vector)):\n",
        "  if prediction_tree[i]==test_vector[i]:          # checking how many values match\n",
        "    count=count+1"
      ],
      "execution_count": null,
      "outputs": []
    },
    {
      "cell_type": "code",
      "metadata": {
        "id": "A_ddl97JKYrp",
        "outputId": "ce80b02f-1f54-4591-a2fb-841a3aeaa20b",
        "colab": {
          "base_uri": "https://localhost:8080/",
          "height": 35
        }
      },
      "source": [
        "accuracy=count*100/len(test_vector)\n",
        "print(\"Accuracy : \",accuracy,\" %\")      #ACCURACY"
      ],
      "execution_count": null,
      "outputs": [
        {
          "output_type": "stream",
          "text": [
            "Efficiency :  77.04918032786885  %\n"
          ],
          "name": "stdout"
        }
      ]
    },
    {
      "cell_type": "code",
      "metadata": {
        "id": "Vtn4G2w-LlT8"
      },
      "source": [
        ""
      ],
      "execution_count": null,
      "outputs": []
    }
  ]
}