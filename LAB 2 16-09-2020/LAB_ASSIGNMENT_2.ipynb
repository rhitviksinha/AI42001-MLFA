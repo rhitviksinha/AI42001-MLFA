{
  "nbformat": 4,
  "nbformat_minor": 0,
  "metadata": {
    "colab": {
      "name": "LAB_ASSIGNMENT_2.ipynb",
      "provenance": [],
      "collapsed_sections": [],
      "toc_visible": true
    },
    "kernelspec": {
      "name": "python3",
      "display_name": "Python 3"
    }
  },
  "cells": [
    {
      "cell_type": "markdown",
      "metadata": {
        "id": "pzWX0nyiAAWF",
        "colab_type": "text"
      },
      "source": [
        "# Assignment 2\n",
        "\n",
        "## Linear and Sparse Regression\n",
        "\n",
        "*Submission from 18EE10043, Rhitvik Sinha*  \n",
        "*Performed in Google Colab*"
      ]
    },
    {
      "cell_type": "code",
      "metadata": {
        "id": "e85QUD-U_rgW",
        "colab_type": "code",
        "colab": {
          "base_uri": "https://localhost:8080/",
          "height": 34
        },
        "outputId": "35956b3b-92fc-4725-c926-5ad5552fd2f9"
      },
      "source": [
        "!ls"
      ],
      "execution_count": 1,
      "outputs": [
        {
          "output_type": "stream",
          "text": [
            "'Advertising Dataset.csv'   sample_data\n"
          ],
          "name": "stdout"
        }
      ]
    },
    {
      "cell_type": "code",
      "metadata": {
        "id": "nDbaYIROBIfv",
        "colab_type": "code",
        "colab": {
          "base_uri": "https://localhost:8080/",
          "height": 195
        },
        "outputId": "8c828815-f83a-4d50-bf44-8b990d4f4343"
      },
      "source": [
        "import numpy as np\n",
        "import pandas as pd\n",
        "\n",
        "df=pd.read_csv('Advertising Dataset.csv', sep=',',header=None)\n",
        "df.head()"
      ],
      "execution_count": 2,
      "outputs": [
        {
          "output_type": "execute_result",
          "data": {
            "text/html": [
              "<div>\n",
              "<style scoped>\n",
              "    .dataframe tbody tr th:only-of-type {\n",
              "        vertical-align: middle;\n",
              "    }\n",
              "\n",
              "    .dataframe tbody tr th {\n",
              "        vertical-align: top;\n",
              "    }\n",
              "\n",
              "    .dataframe thead th {\n",
              "        text-align: right;\n",
              "    }\n",
              "</style>\n",
              "<table border=\"1\" class=\"dataframe\">\n",
              "  <thead>\n",
              "    <tr style=\"text-align: right;\">\n",
              "      <th></th>\n",
              "      <th>0</th>\n",
              "      <th>1</th>\n",
              "      <th>2</th>\n",
              "      <th>3</th>\n",
              "      <th>4</th>\n",
              "    </tr>\n",
              "  </thead>\n",
              "  <tbody>\n",
              "    <tr>\n",
              "      <th>0</th>\n",
              "      <td>NaN</td>\n",
              "      <td>TV</td>\n",
              "      <td>radio</td>\n",
              "      <td>newspaper</td>\n",
              "      <td>sales</td>\n",
              "    </tr>\n",
              "    <tr>\n",
              "      <th>1</th>\n",
              "      <td>1.0</td>\n",
              "      <td>230.1</td>\n",
              "      <td>37.8</td>\n",
              "      <td>69.2</td>\n",
              "      <td>22.1</td>\n",
              "    </tr>\n",
              "    <tr>\n",
              "      <th>2</th>\n",
              "      <td>2.0</td>\n",
              "      <td>44.5</td>\n",
              "      <td>39.3</td>\n",
              "      <td>45.1</td>\n",
              "      <td>10.4</td>\n",
              "    </tr>\n",
              "    <tr>\n",
              "      <th>3</th>\n",
              "      <td>3.0</td>\n",
              "      <td>17.2</td>\n",
              "      <td>45.9</td>\n",
              "      <td>69.3</td>\n",
              "      <td>9.3</td>\n",
              "    </tr>\n",
              "    <tr>\n",
              "      <th>4</th>\n",
              "      <td>4.0</td>\n",
              "      <td>151.5</td>\n",
              "      <td>41.3</td>\n",
              "      <td>58.5</td>\n",
              "      <td>18.5</td>\n",
              "    </tr>\n",
              "  </tbody>\n",
              "</table>\n",
              "</div>"
            ],
            "text/plain": [
              "     0      1      2          3      4\n",
              "0  NaN     TV  radio  newspaper  sales\n",
              "1  1.0  230.1   37.8       69.2   22.1\n",
              "2  2.0   44.5   39.3       45.1   10.4\n",
              "3  3.0   17.2   45.9       69.3    9.3\n",
              "4  4.0  151.5   41.3       58.5   18.5"
            ]
          },
          "metadata": {
            "tags": []
          },
          "execution_count": 2
        }
      ]
    },
    {
      "cell_type": "code",
      "metadata": {
        "id": "ZeXq-uVdBxrr",
        "colab_type": "code",
        "colab": {
          "base_uri": "https://localhost:8080/",
          "height": 101
        },
        "outputId": "57d7dd32-e757-4995-a92e-806ffdef11d0"
      },
      "source": [
        "df = df.drop(0)\n",
        "df = df.drop(0, axis=1)\n",
        "\n",
        "data = df.to_numpy(dtype='float')\n",
        "data[:5]"
      ],
      "execution_count": 3,
      "outputs": [
        {
          "output_type": "execute_result",
          "data": {
            "text/plain": [
              "array([[230.1,  37.8,  69.2,  22.1],\n",
              "       [ 44.5,  39.3,  45.1,  10.4],\n",
              "       [ 17.2,  45.9,  69.3,   9.3],\n",
              "       [151.5,  41.3,  58.5,  18.5],\n",
              "       [180.8,  10.8,  58.4,  12.9]])"
            ]
          },
          "metadata": {
            "tags": []
          },
          "execution_count": 3
        }
      ]
    },
    {
      "cell_type": "code",
      "metadata": {
        "id": "9quUZxJzCB30",
        "colab_type": "code",
        "colab": {
          "base_uri": "https://localhost:8080/",
          "height": 370
        },
        "outputId": "d00c8cdf-4a1d-4255-9f80-680442b5b7ca"
      },
      "source": [
        "features = np.copy(data[:, :3])\n",
        "labels = np.copy(data[:, -1]).reshape((-1, 1))\n",
        "\n",
        "print(features[:10])\n",
        "print(labels[:10])\n",
        "labels.shape[0]"
      ],
      "execution_count": 4,
      "outputs": [
        {
          "output_type": "stream",
          "text": [
            "[[230.1  37.8  69.2]\n",
            " [ 44.5  39.3  45.1]\n",
            " [ 17.2  45.9  69.3]\n",
            " [151.5  41.3  58.5]\n",
            " [180.8  10.8  58.4]\n",
            " [  8.7  48.9  75. ]\n",
            " [ 57.5  32.8  23.5]\n",
            " [120.2  19.6  11.6]\n",
            " [  8.6   2.1   1. ]\n",
            " [199.8   2.6  21.2]]\n",
            "[[22.1]\n",
            " [10.4]\n",
            " [ 9.3]\n",
            " [18.5]\n",
            " [12.9]\n",
            " [ 7.2]\n",
            " [11.8]\n",
            " [13.2]\n",
            " [ 4.8]\n",
            " [10.6]]\n"
          ],
          "name": "stdout"
        },
        {
          "output_type": "execute_result",
          "data": {
            "text/plain": [
              "200"
            ]
          },
          "metadata": {
            "tags": []
          },
          "execution_count": 4
        }
      ]
    },
    {
      "cell_type": "markdown",
      "metadata": {
        "id": "7LFXVTB_A4IG",
        "colab_type": "text"
      },
      "source": [
        "## Part 1\n",
        "\n",
        "*Randomly divide the dataset into training (75%) and testing (25%) subsets.*"
      ]
    },
    {
      "cell_type": "code",
      "metadata": {
        "id": "kp4MESdNBDZK",
        "colab_type": "code",
        "colab": {}
      },
      "source": [
        "train_features = []\n",
        "test_features = []\n",
        "\n",
        "train_labels = []\n",
        "test_labels = []\n",
        "\n",
        "for i in range(labels.shape[0]):\n",
        "    if np.random.rand() < 0.75 :\n",
        "        train_features.append(features[i,:])\n",
        "        train_labels.append(labels[i])\n",
        "    else:\n",
        "        test_features.append(features[i,:])\n",
        "        test_labels.append(labels[i])"
      ],
      "execution_count": 5,
      "outputs": []
    },
    {
      "cell_type": "code",
      "metadata": {
        "id": "8CfdT31iM5Na",
        "colab_type": "code",
        "colab": {
          "base_uri": "https://localhost:8080/",
          "height": 84
        },
        "outputId": "79168d2b-380f-4d7f-e32f-8c0a10f1617b"
      },
      "source": [
        "train_features = np.array(train_features)\n",
        "test_features = np.array(test_features)\n",
        "\n",
        "train_labels = np.array(train_labels)\n",
        "test_labels = np.array(test_labels)\n",
        "\n",
        "print(train_features.shape)\n",
        "print(train_labels.shape)\n",
        "print(test_features.shape)\n",
        "print(test_labels.shape)"
      ],
      "execution_count": 6,
      "outputs": [
        {
          "output_type": "stream",
          "text": [
            "(147, 3)\n",
            "(147, 1)\n",
            "(53, 3)\n",
            "(53, 1)\n"
          ],
          "name": "stdout"
        }
      ]
    },
    {
      "cell_type": "markdown",
      "metadata": {
        "id": "ASWOoG7Hqtv_",
        "colab_type": "text"
      },
      "source": [
        "## Part 2\n",
        "\n",
        "*Using Linear Regression, fit a model to predict the sales from investments using your own formula. Compare the coefficients as found by the python library function.*"
      ]
    },
    {
      "cell_type": "code",
      "metadata": {
        "id": "sWOWgH8OL8gr",
        "colab_type": "code",
        "colab": {
          "base_uri": "https://localhost:8080/",
          "height": 50
        },
        "outputId": "598267d2-0308-4d18-abc5-d29a173e4ffe"
      },
      "source": [
        "X_train_mean = np.mean(train_features, axis=0).reshape(1,-1)\n",
        "y_train_mean = np.mean(train_labels, axis=0)\n",
        "\n",
        "print(X_train_mean)\n",
        "print(y_train_mean)"
      ],
      "execution_count": 7,
      "outputs": [
        {
          "output_type": "stream",
          "text": [
            "[[148.14217687  23.07619048  29.78435374]]\n",
            "[14.02244898]\n"
          ],
          "name": "stdout"
        }
      ]
    },
    {
      "cell_type": "code",
      "metadata": {
        "id": "XZImF-Jhu1KA",
        "colab_type": "code",
        "colab": {
          "base_uri": "https://localhost:8080/",
          "height": 168
        },
        "outputId": "b7998a9e-8054-4c76-ffb2-1cf547abe1ca"
      },
      "source": [
        "numerator = np.dot((train_features - X_train_mean).T, (train_labels - y_train_mean))\n",
        "print(numerator.shape)\n",
        "denominator = np.dot((train_features - X_train_mean).T, (train_features - X_train_mean))\n",
        "print(denominator.shape)\n",
        "denom_inv = np.linalg.inv(denominator)\n",
        "\n",
        "w = np.dot(denom_inv, numerator)\n",
        "b = y_train_mean - np.dot(X_train_mean, w)\n",
        "\n",
        "print()\n",
        "print(w.shape)\n",
        "print(w)\n",
        "print(b.shape)\n",
        "print(b)"
      ],
      "execution_count": 8,
      "outputs": [
        {
          "output_type": "stream",
          "text": [
            "(3, 1)\n",
            "(3, 3)\n",
            "\n",
            "(3, 1)\n",
            "[[ 0.04455704]\n",
            " [ 0.19217871]\n",
            " [-0.00572183]]\n",
            "(1, 1)\n",
            "[[3.15734077]]\n"
          ],
          "name": "stdout"
        }
      ]
    },
    {
      "cell_type": "code",
      "metadata": {
        "id": "DAubwA1_w4g4",
        "colab_type": "code",
        "colab": {
          "base_uri": "https://localhost:8080/",
          "height": 50
        },
        "outputId": "ffac0662-6fff-4b9c-b08d-fde8905bed62"
      },
      "source": [
        "from sklearn.linear_model import LinearRegression as LR\n",
        "\n",
        "linear_model = LR().fit(train_features, train_labels)\n",
        "\n",
        "print(linear_model.coef_)\n",
        "print(linear_model.intercept_)"
      ],
      "execution_count": 9,
      "outputs": [
        {
          "output_type": "stream",
          "text": [
            "[[ 0.04455704  0.19217871 -0.00572183]]\n",
            "[3.15734077]\n"
          ],
          "name": "stdout"
        }
      ]
    },
    {
      "cell_type": "markdown",
      "metadata": {
        "id": "zEwVUM8c46Ai",
        "colab_type": "text"
      },
      "source": [
        "## Part 3\n",
        "\n",
        "*Compute the mean squared error on the testing set.*"
      ]
    },
    {
      "cell_type": "code",
      "metadata": {
        "id": "aKaJ4a1D2b5R",
        "colab_type": "code",
        "colab": {
          "base_uri": "https://localhost:8080/",
          "height": 50
        },
        "outputId": "13668c57-a378-4de1-d03f-2969bd5b84a8"
      },
      "source": [
        "mse_linear_train = np.dot( (train_labels - np.dot(train_features, w) - b).T, (train_labels - np.dot(train_features, w) - b) ) / train_labels.shape[0]\n",
        "mse_linear_test = np.dot( (test_labels - np.dot(test_features, w) - b).T, (test_labels - np.dot(test_features, w) - b) ) / test_labels.shape[0]\n",
        "\n",
        "print(mse_linear_train)\n",
        "print(mse_linear_test)"
      ],
      "execution_count": 10,
      "outputs": [
        {
          "output_type": "stream",
          "text": [
            "[[3.02069861]]\n",
            "[[2.20705911]]\n"
          ],
          "name": "stdout"
        }
      ]
    },
    {
      "cell_type": "markdown",
      "metadata": {
        "id": "WoEeiNlN6p6-",
        "colab_type": "text"
      },
      "source": [
        "## Part 4\n",
        "\n",
        "*Using ridge regression with different values of lambda (0.5, 1, 5, 10, 50, 100) plot the coefficients against each other, and also compare the test set mean squared errors.*"
      ]
    },
    {
      "cell_type": "code",
      "metadata": {
        "id": "SPvyGTB66ios",
        "colab_type": "code",
        "colab": {}
      },
      "source": [
        "lamda = [0.5, 1, 5, 10, 50, 100]\n",
        "denom_inv_ridge = []\n",
        "w_ridge = []\n",
        "b_ridge = []\n",
        "\n",
        "for i in lamda:\n",
        "    \n",
        "    denom_i = np.linalg.inv(denominator + (i * np.eye(train_features.shape[1])))\n",
        "    denom_inv_ridge.append(denom_i)\n",
        "    \n",
        "    w_i = np.dot(denom_i, numerator)\n",
        "    w_ridge.append(w_i)\n",
        "\n",
        "    b_i = y_train_mean - np.dot(X_train_mean, w_i)\n",
        "    b_ridge.append(b_i)\n",
        "\n",
        "denom_inv_ridge = np.array(denom_inv_ridge)\n",
        "w_ridge = np.array(w_ridge)\n",
        "b_ridge = np.array(b_ridge)"
      ],
      "execution_count": 11,
      "outputs": []
    },
    {
      "cell_type": "code",
      "metadata": {
        "id": "-AHlCBWC-8lb",
        "colab_type": "code",
        "colab": {
          "base_uri": "https://localhost:8080/",
          "height": 1000
        },
        "outputId": "6fd2c7b1-0005-4bc6-9d3d-52931edbe167"
      },
      "source": [
        "import matplotlib.pyplot as plt\n",
        "\n",
        "for j in range(w_ridge.shape[1]):\n",
        "    fig, ax = plt.subplots(figsize = (8, 4), dpi = 100)\n",
        "    \n",
        "    for i, num in enumerate(lamda):\n",
        "        ax.plot(w_ridge[i, j], num, 'r', label = 'w['+ str(i) +','+ str(j) +']', markersize=15)\n",
        "    \n",
        "    ax.set_xlabel('coefficients')\n",
        "    ax.set_ylabel('lambda')\n",
        "    ax.legend(loc='best')\n",
        "    ax.set_title('Coeff. vs Lambda for Ridge Regression')\n",
        "\n",
        "plt.show()"
      ],
      "execution_count": 12,
      "outputs": [
        {
          "output_type": "display_data",
          "data": {
            "image/png": "[encoded data removed]",
            "text/plain": [
              "<Figure size 800x400 with 1 Axes>"
            ]
          },
          "metadata": {
            "tags": [],
            "needs_background": "light"
          }
        },
        {
          "output_type": "display_data",
          "data": {
            "image/png": "[encoded data removed]",
            "text/plain": [
              "<Figure size 800x400 with 1 Axes>"
            ]
          },
          "metadata": {
            "tags": [],
            "needs_background": "light"
          }
        },
        {
          "output_type": "display_data",
          "data": {
            "image/png": "[encoded data removed]",
            "text/plain": [
              "<Figure size 800x400 with 1 Axes>"
            ]
          },
          "metadata": {
            "tags": [],
            "needs_background": "light"
          }
        }
      ]
    },
    {
      "cell_type": "code",
      "metadata": {
        "id": "qGzvpnrUC2wi",
        "colab_type": "code",
        "colab": {
          "base_uri": "https://localhost:8080/",
          "height": 202
        },
        "outputId": "def56bf7-54a6-44a1-ed54-04ddd3770a9c"
      },
      "source": [
        "mse_ridge_test = []\n",
        "\n",
        "for i, num in enumerate(lamda):\n",
        "    mse_ridge_test.append(np.dot( (test_labels - np.dot(test_features, w_ridge[i]) - b_ridge[i]).T, (test_labels - np.dot(test_features, w_ridge[i]) - b_ridge[i]) ) / test_labels.shape[0])\n",
        "\n",
        "mse_ridge_test = np.array(mse_ridge_test)\n",
        "print(mse_ridge_test)"
      ],
      "execution_count": 13,
      "outputs": [
        {
          "output_type": "stream",
          "text": [
            "[[[2.2070386 ]]\n",
            "\n",
            " [[2.2070181 ]]\n",
            "\n",
            " [[2.20685429]]\n",
            "\n",
            " [[2.20665011]]\n",
            "\n",
            " [[2.20503977]]\n",
            "\n",
            " [[2.20308411]]]\n"
          ],
          "name": "stdout"
        }
      ]
    },
    {
      "cell_type": "code",
      "metadata": {
        "id": "1RzhgaNHEH-S",
        "colab_type": "code",
        "colab": {}
      },
      "source": [
        ""
      ],
      "execution_count": 13,
      "outputs": []
    }
  ]
}